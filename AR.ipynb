{
  "nbformat": 4,
  "nbformat_minor": 0,
  "metadata": {
    "colab": {
      "name": "AR.ipynb",
      "provenance": [],
      "include_colab_link": true
    },
    "kernelspec": {
      "name": "python3",
      "display_name": "Python 3"
    },
    "accelerator": "GPU"
  },
  "cells": [
    {
      "cell_type": "markdown",
      "metadata": {
        "id": "view-in-github",
        "colab_type": "text"
      },
      "source": [
        "<a href=\"https://colab.research.google.com/github/Anil-matcha/Action_Recognition/blob/master/AR.ipynb\" target=\"_parent\"><img src=\"https://colab.research.google.com/assets/colab-badge.svg\" alt=\"Open In Colab\"/></a>"
      ]
    },
    {
      "cell_type": "code",
      "metadata": {
        "id": "zS2HkfSWZSLq",
        "colab_type": "code",
        "outputId": "6e4ed316-f1bd-465a-8477-c1296b74f63e",
        "colab": {
          "base_uri": "https://localhost:8080/",
          "height": 34
        }
      },
      "source": [
        "from google.colab import drive\n",
        "drive.mount('/content/drive', force_remount=True)\n",
        "#drive.unmount('/content/drive')#, force_remount=True)"
      ],
      "execution_count": 0,
      "outputs": [
        {
          "output_type": "stream",
          "text": [
            "Mounted at /content/drive\n"
          ],
          "name": "stdout"
        }
      ]
    },
    {
      "cell_type": "code",
      "metadata": {
        "id": "Cd0WZtmF0ozu",
        "colab_type": "code",
        "colab": {}
      },
      "source": [
        "!cp /content/drive/'My Drive'/full_data.zip ."
      ],
      "execution_count": 0,
      "outputs": []
    },
    {
      "cell_type": "code",
      "metadata": {
        "id": "biOS1FHb2bIU",
        "colab_type": "code",
        "colab": {}
      },
      "source": [
        "!cp /content/drive/'My Drive'/extras.zip ."
      ],
      "execution_count": 0,
      "outputs": []
    },
    {
      "cell_type": "code",
      "metadata": {
        "id": "Astt9GGu2eyr",
        "colab_type": "code",
        "colab": {}
      },
      "source": [
        "!unzip -qq extras.zip"
      ],
      "execution_count": 0,
      "outputs": []
    },
    {
      "cell_type": "code",
      "metadata": {
        "id": "75fLRq5i2nCy",
        "colab_type": "code",
        "colab": {}
      },
      "source": [
        "!cp /content/drive/'My Drive'/action_data2.zip ."
      ],
      "execution_count": 0,
      "outputs": []
    },
    {
      "cell_type": "code",
      "metadata": {
        "id": "sQ-P1K1x20v3",
        "colab_type": "code",
        "colab": {}
      },
      "source": [
        "!unzip -qq action_data2.zip "
      ],
      "execution_count": 0,
      "outputs": []
    },
    {
      "cell_type": "code",
      "metadata": {
        "id": "Eo7byTgj0vpj",
        "colab_type": "code",
        "colab": {}
      },
      "source": [
        "!unzip -qq full_data.zip"
      ],
      "execution_count": 0,
      "outputs": []
    },
    {
      "cell_type": "code",
      "metadata": {
        "id": "CyWe0-GM2-YB",
        "colab_type": "code",
        "colab": {}
      },
      "source": [
        "!mkdir valid\n",
        "!mkdir valid/burpees\n",
        "!mkdir valid/mcs\n",
        "!mkdir valid/squats\n",
        "!mkdir valid/jj\n",
        "!mkdir valid/planks\n",
        "!mkdir valid/pushups"
      ],
      "execution_count": 0,
      "outputs": []
    },
    {
      "cell_type": "code",
      "metadata": {
        "id": "eRC0Jk7r3WRW",
        "colab_type": "code",
        "colab": {}
      },
      "source": [
        "!mv action_data_2/squats/squat2_1_* valid/squats/\n",
        "!mv action_data_2/jj/jumping_jacks2_1_* valid/jj/\n",
        "!mv action_data_2/mcs/mountain_climber2_1_* valid/mcs/\n",
        "!mv action_data_2/planks/plank2_1_* valid/planks/\n",
        "!mv action_data_2/burpees/burpee2_1_* valid/burpees/\n",
        "!mv action_data_2/pushups/pushup2_1_* valid/pushups/"
      ],
      "execution_count": 0,
      "outputs": []
    },
    {
      "cell_type": "code",
      "metadata": {
        "id": "hUhp9-VR4aDL",
        "colab_type": "code",
        "colab": {}
      },
      "source": [
        "!mv action_data_2/squats/* full_data/train/squats/\n",
        "!mv action_data_2/jj/* full_data/train/jj/\n",
        "!mv action_data_2/mcs/* full_data/train/mcs/\n",
        "!mv action_data_2/planks/* full_data/train/planks/\n",
        "!mv action_data_2/burpees/* full_data/train/burpees/\n",
        "!mv action_data_2/pushups/* full_data/train/pushups/"
      ],
      "execution_count": 0,
      "outputs": []
    },
    {
      "cell_type": "code",
      "metadata": {
        "id": "EOyCISgZ45Oh",
        "colab_type": "code",
        "colab": {}
      },
      "source": [
        "!mkdir valid/extras\n",
        "!mkdir full_data/train/extras"
      ],
      "execution_count": 0,
      "outputs": []
    },
    {
      "cell_type": "code",
      "metadata": {
        "id": "td2oXScl4zW6",
        "colab_type": "code",
        "colab": {}
      },
      "source": [
        "!mv extras/extra_1* valid/extras/\n",
        "!mv extras/* full_data/train/extras/"
      ],
      "execution_count": 0,
      "outputs": []
    },
    {
      "cell_type": "code",
      "metadata": {
        "id": "vvKf5Nbp5Jj6",
        "colab_type": "code",
        "colab": {}
      },
      "source": [
        "!mv valid full_data/"
      ],
      "execution_count": 0,
      "outputs": []
    },
    {
      "cell_type": "code",
      "metadata": {
        "id": "dn2-zxxP5Pcn",
        "colab_type": "code",
        "colab": {}
      },
      "source": [
        "!zip -qr full_data_new.zip full_data"
      ],
      "execution_count": 0,
      "outputs": []
    },
    {
      "cell_type": "code",
      "metadata": {
        "id": "gtab2LhP5WZp",
        "colab_type": "code",
        "outputId": "d86389a3-4ead-48d2-e645-fcc8ba0437c4",
        "colab": {
          "base_uri": "https://localhost:8080/",
          "height": 34
        }
      },
      "source": [
        "!cp full_data_new.zip /content/drive/'My Drive'/"
      ],
      "execution_count": 0,
      "outputs": [
        {
          "output_type": "stream",
          "text": [
            "cp: cannot create regular file '/content/drive/My Drive/': Not a directory\n"
          ],
          "name": "stdout"
        }
      ]
    },
    {
      "cell_type": "code",
      "metadata": {
        "id": "U5djeJek3jzh",
        "colab_type": "code",
        "colab": {}
      },
      "source": [
        "!ls action_data_2/squats"
      ],
      "execution_count": 0,
      "outputs": []
    },
    {
      "cell_type": "code",
      "metadata": {
        "id": "naK3Lsj4ZZkf",
        "colab_type": "code",
        "outputId": "83b576af-2d99-4ec2-923a-8fc918c2ec24",
        "colab": {
          "base_uri": "https://localhost:8080/",
          "height": 1000
        }
      },
      "source": [
        "import cv2, os\n",
        "print(cv2.__version__)\n",
        "videos = os.listdir(\"/content/drive/My Drive/excercise\")\n",
        "for video_name in videos:\n",
        "  print(video_name)\n",
        "  vidcap = cv2.VideoCapture(\"/content/drive/My Drive/excercise/\"+video_name)\n",
        "  success,image = vidcap.read()\n",
        "  count = 0\n",
        "  success = True\n",
        "  print(video_name)\n",
        "  os.mkdir(video_name)\n",
        "  while success:\n",
        "    if count%10000 == 0: \n",
        "      cv2.imwrite(video_name+\"/frame%d.jpg\" % count, image)     # save frame as JPEG file\n",
        "      success,image = vidcap.read()\n",
        "      #print('Read a new frame: ', success)\n",
        "    count += 1"
      ],
      "execution_count": 0,
      "outputs": [
        {
          "output_type": "stream",
          "text": [
            "3.4.3\n",
            "mountain_climber_5.mp4\n",
            "mountain_climber_5.mp4\n",
            "burpee_1.mp4\n",
            "burpee_1.mp4\n",
            "plank_3.mp4\n",
            "plank_3.mp4\n",
            "plank_6.mp4\n",
            "plank_6.mp4\n",
            "Thumbs.db\n",
            "Thumbs.db\n",
            "burpee_2.mp4\n",
            "burpee_2.mp4\n",
            "burpee_3.mp4\n",
            "burpee_3.mp4\n",
            "jumping_jacks_1.mp4\n",
            "jumping_jacks_1.mp4\n",
            "jumping_jacks_2.mp4\n",
            "jumping_jacks_2.mp4\n",
            "jumping_jacks_3.mp4\n",
            "jumping_jacks_3.mp4\n",
            "jumping_jacks_4.mp4\n",
            "jumping_jacks_4.mp4\n",
            "jumping_jacks_5.mp4\n",
            "jumping_jacks_5.mp4\n",
            "jumping_jacks_6.mp4\n",
            "jumping_jacks_6.mp4\n",
            "jumping_jacks_7.mp4\n",
            "jumping_jacks_7.mp4\n",
            "mountain_climber_1.mp4\n",
            "mountain_climber_1.mp4\n",
            "mountain_climber_2.mp4\n",
            "mountain_climber_2.mp4\n",
            "plank_1.mp4\n",
            "plank_1.mp4\n",
            "mountain_climber_4.mp4\n",
            "mountain_climber_4.mp4\n",
            "mountain_climber_3.mp4\n",
            "mountain_climber_3.mp4\n",
            "plank_4.mp4\n",
            "plank_4.mp4\n",
            "plank_2.mp4\n",
            "plank_2.mp4\n",
            "plank_5.mp4\n",
            "plank_5.mp4\n",
            "squat_2.mp4\n",
            "squat_2.mp4\n",
            "squat_1.mp4\n",
            "squat_1.mp4\n",
            "pushup_1.mp4\n",
            "pushup_1.mp4\n",
            "squat_6.mp4\n",
            "squat_6.mp4\n",
            "squat_5.mp4\n",
            "squat_5.mp4\n",
            "squat_4.mp4\n",
            "squat_4.mp4\n",
            "squat_3.mp4\n",
            "squat_3.mp4\n"
          ],
          "name": "stdout"
        }
      ]
    },
    {
      "cell_type": "code",
      "metadata": {
        "id": "qB700QbFaO_m",
        "colab_type": "code",
        "colab": {}
      },
      "source": [
        "!rm -rf *mp4 Thumbs.db pushups mcs jj planks squats burpees"
      ],
      "execution_count": 0,
      "outputs": []
    },
    {
      "cell_type": "code",
      "metadata": {
        "id": "2I18In1RZpur",
        "colab_type": "code",
        "outputId": "bc428b5f-e086-4232-d90c-d2a3d314db42",
        "colab": {
          "base_uri": "https://localhost:8080/",
          "height": 241
        }
      },
      "source": [
        "import os, shutil\n",
        "def copy_dir(name, f1):\n",
        "  print(f1)\n",
        "  fnames = [x for x in os.listdir(\".\") if name in x]\n",
        "  print(fnames)\n",
        "  os.mkdir(f1)\n",
        "  count = 0\n",
        "  for x in fnames:\n",
        "    fx = os.listdir(x)\n",
        "    for f in fx:\n",
        "      #print(x+\"/\"+f)\n",
        "      shutil.copy(x+\"/\"+f, f1+\"/\"+x.split(\".\")[0]+\"_\"+f)\n",
        "copy_dir(\"pushup\", \"pushups\")\n",
        "copy_dir(\"mountain_climber\", \"mcs\")\n",
        "copy_dir(\"squat\", \"squats\")\n",
        "copy_dir(\"plank\", \"planks\")\n",
        "copy_dir(\"jumping\", \"jj\")\n",
        "copy_dir(\"burpee\", \"burpees\")"
      ],
      "execution_count": 0,
      "outputs": [
        {
          "output_type": "stream",
          "text": [
            "pushups\n",
            "['pushup_1.mp4']\n",
            "mcs\n",
            "['mountain_climber_3.mp4', 'mountain_climber_5.mp4', 'mountain_climber_4.mp4', 'mountain_climber_1.mp4', 'mountain_climber_2.mp4']\n",
            "squats\n",
            "['squat_2.mp4', 'squat_5.mp4', 'squat_1.mp4', 'squat_4.mp4', 'squat_6.mp4', 'squat_3.mp4']\n",
            "planks\n",
            "['plank_2.mp4', 'plank_1.mp4', 'plank_4.mp4', 'plank_6.mp4', 'plank_5.mp4', 'plank_3.mp4']\n",
            "jj\n",
            "['jumping_jacks_4.mp4', 'jumping_jacks_1.mp4', 'jumping_jacks_2.mp4', 'jumping_jacks_6.mp4', 'jumping_jacks_7.mp4', 'jumping_jacks_3.mp4', 'jumping_jacks_5.mp4']\n",
            "burpees\n",
            "['burpee_3.mp4', 'burpee_2.mp4', 'burpee_1.mp4']\n"
          ],
          "name": "stdout"
        }
      ]
    },
    {
      "cell_type": "code",
      "metadata": {
        "id": "tFaGqNI2Z392",
        "colab_type": "code",
        "colab": {}
      },
      "source": [
        "!mkdir action_data\n",
        "!mv pushups action_data/\n",
        "!mv jj action_data/\n",
        "!mv mcs action_data/\n",
        "!mv squats action_data/\n",
        "!mv planks action_data/\n",
        "!mv burpees action_data/"
      ],
      "execution_count": 0,
      "outputs": []
    },
    {
      "cell_type": "code",
      "metadata": {
        "id": "Y1MP2ZihZ6w-",
        "colab_type": "code",
        "colab": {}
      },
      "source": [
        "!zip -qr action_data.zip action_data"
      ],
      "execution_count": 0,
      "outputs": []
    },
    {
      "cell_type": "code",
      "metadata": {
        "id": "aG8G9AhpZ9Dc",
        "colab_type": "code",
        "colab": {}
      },
      "source": [
        "!cp action_data.zip /content/drive/'My Drive'/"
      ],
      "execution_count": 0,
      "outputs": []
    },
    {
      "cell_type": "code",
      "metadata": {
        "id": "rpJauBediLyU",
        "colab_type": "code",
        "colab": {}
      },
      "source": [
        "import keras\n",
        "import numpy as np\n",
        "from keras.applications import resnet50\n",
        " \n",
        "#Load the ResNet50 model\n",
        "resnet_model = resnet50.ResNet50(weights='imagenet')"
      ],
      "execution_count": 0,
      "outputs": []
    },
    {
      "cell_type": "code",
      "metadata": {
        "id": "VY14dbf2ioii",
        "colab_type": "code",
        "colab": {}
      },
      "source": [
        "from keras.layers import Conv2D, Dense, Dropout\n",
        "from keras.models import Model\n",
        "resnet_model.layers.pop()\n",
        "dense_1 = Dense(400, activation='relu', name='dense_1')(resnet_model.layers[-1].output)\n",
        "dense_1 = Dropout(0.2)(dense_1)\n",
        "final = Dense(7, activation='softmax', name='final')(dense_1)\n",
        "model = Model(input=resnet_model.layers[0].input, output=[final])\n",
        "model.summary()"
      ],
      "execution_count": 0,
      "outputs": []
    },
    {
      "cell_type": "code",
      "metadata": {
        "id": "tlt0JUF3jNBL",
        "colab_type": "code",
        "colab": {}
      },
      "source": [
        "from keras.applications.resnet50 import preprocess_input, decode_predictions\n",
        "from keras.preprocessing.image import ImageDataGenerator\n",
        "train_datagen = ImageDataGenerator(\n",
        "        shear_range=0,\n",
        "        zoom_range=0,\n",
        "        preprocessing_function = preprocess_input,\n",
        "        horizontal_flip=False,\n",
        "        width_shift_range=0,  # randomly shift images horizontally (fraction of total width)\n",
        "        height_shift_range=0)\n",
        "test_datagen = ImageDataGenerator(\n",
        "        shear_range=0,\n",
        "        zoom_range=0,\n",
        "        preprocessing_function = preprocess_input,\n",
        "        horizontal_flip=False,\n",
        "        width_shift_range=0,  # randomly shift images horizontally (fraction of total width)\n",
        "        height_shift_range=0)"
      ],
      "execution_count": 0,
      "outputs": []
    },
    {
      "cell_type": "code",
      "metadata": {
        "id": "mVIPSNbGjUUP",
        "colab_type": "code",
        "outputId": "9dfd4b1e-5c02-4187-8cff-d98a4c596f96",
        "colab": {
          "base_uri": "https://localhost:8080/",
          "height": 51
        }
      },
      "source": [
        "from keras.callbacks import ModelCheckpoint\n",
        "\n",
        "train_generator = train_datagen.flow_from_directory(\n",
        "    directory=r\"./full_data/train/\",\n",
        "    target_size=(224, 224),\n",
        "    color_mode=\"rgb\",\n",
        "    batch_size=32,\n",
        "    class_mode=\"categorical\",\n",
        "    shuffle=True,\n",
        "    seed=42\n",
        ")\n",
        "test_generator = test_datagen.flow_from_directory(\n",
        "    directory=r\"./full_data/valid/\",\n",
        "    target_size=(224, 224),\n",
        "    color_mode=\"rgb\",\n",
        "    batch_size=32,\n",
        "    class_mode=\"categorical\",\n",
        "    shuffle=True,\n",
        "    seed=42\n",
        ")\n",
        "\n",
        "fileName = '/content/drive/My Drive/cult_model.hdf5'\n",
        "\n",
        "checkpoint = ModelCheckpoint(fileName,monitor='val_acc', verbose=1, save_best_only=True, mode='auto')"
      ],
      "execution_count": 0,
      "outputs": [
        {
          "output_type": "stream",
          "text": [
            "Found 98338 images belonging to 7 classes.\n",
            "Found 12457 images belonging to 7 classes.\n"
          ],
          "name": "stdout"
        }
      ]
    },
    {
      "cell_type": "code",
      "metadata": {
        "id": "68ieBPnrNlLN",
        "colab_type": "code",
        "outputId": "82a1e933-b9c4-44e5-c7f0-413cf644b2b0",
        "colab": {
          "base_uri": "https://localhost:8080/",
          "height": 34
        }
      },
      "source": [
        ""
      ],
      "execution_count": 0,
      "outputs": [
        {
          "output_type": "stream",
          "text": [
            "ls: cannot access 'content/My Drive': No such file or directory\n"
          ],
          "name": "stdout"
        }
      ]
    },
    {
      "cell_type": "code",
      "metadata": {
        "id": "iGCgZrzEjWUz",
        "colab_type": "code",
        "colab": {}
      },
      "source": [
        "#for layer in model.layers[:-2]:\n",
        "  #layer.trainable = False"
      ],
      "execution_count": 0,
      "outputs": []
    },
    {
      "cell_type": "code",
      "metadata": {
        "id": "zOja0a_rB5Uo",
        "colab_type": "code",
        "colab": {}
      },
      "source": [
        "!cp full_data_new.zip drive/'My Drive'/"
      ],
      "execution_count": 0,
      "outputs": []
    },
    {
      "cell_type": "code",
      "metadata": {
        "id": "i0_Ptm_vjh1s",
        "colab_type": "code",
        "outputId": "8542e2e1-e264-417c-efee-338b7c6cc045",
        "colab": {
          "base_uri": "https://localhost:8080/",
          "height": 1000
        }
      },
      "source": [
        "from keras.optimizers import SGD\n",
        "batch_size = 256\n",
        "learning_rate = 0.0001\n",
        "sgd = SGD(lr=learning_rate, decay=0.0001, momentum=0.9, nesterov=True)\n",
        "model.compile(loss='categorical_crossentropy',\n",
        "                  optimizer=sgd,\n",
        "                  metrics=['accuracy'])\n",
        "model.fit_generator(\n",
        "        train_generator,\n",
        "        steps_per_epoch=8000 // batch_size,\n",
        "        epochs=100,\n",
        "        validation_data=test_generator,\n",
        "        validation_steps=400 // batch_size,\n",
        "        callbacks = [checkpoint])"
      ],
      "execution_count": 0,
      "outputs": [
        {
          "output_type": "stream",
          "text": [
            "Epoch 1/100\n",
            "31/31 [==============================] - 58s 2s/step - loss: 1.4419 - acc: 0.5292 - val_loss: 2.0851 - val_acc: 0.1875\n",
            "\n",
            "Epoch 00001: val_acc improved from 0.15625 to 0.18750, saving model to /content/drive/My Drive/cult_model.hdf5\n",
            "Epoch 2/100\n",
            "31/31 [==============================] - 26s 844ms/step - loss: 1.3036 - acc: 0.5696 - val_loss: 2.2486 - val_acc: 0.1250\n",
            "\n",
            "Epoch 00002: val_acc did not improve from 0.18750\n",
            "Epoch 3/100\n",
            "31/31 [==============================] - 26s 847ms/step - loss: 1.1711 - acc: 0.6129 - val_loss: 2.3670 - val_acc: 0.0938\n",
            "\n",
            "Epoch 00003: val_acc did not improve from 0.18750\n",
            "Epoch 4/100\n",
            "31/31 [==============================] - 26s 848ms/step - loss: 1.0708 - acc: 0.6754 - val_loss: 2.0778 - val_acc: 0.2188\n",
            "\n",
            "Epoch 00004: val_acc improved from 0.18750 to 0.21875, saving model to /content/drive/My Drive/cult_model.hdf5\n",
            "Epoch 5/100\n",
            "31/31 [==============================] - 26s 848ms/step - loss: 0.9312 - acc: 0.7147 - val_loss: 1.7252 - val_acc: 0.4062\n",
            "\n",
            "Epoch 00005: val_acc improved from 0.21875 to 0.40625, saving model to /content/drive/My Drive/cult_model.hdf5\n",
            "Epoch 6/100\n",
            "31/31 [==============================] - 26s 849ms/step - loss: 0.8826 - acc: 0.7470 - val_loss: 1.9953 - val_acc: 0.2188\n",
            "\n",
            "Epoch 00006: val_acc did not improve from 0.40625\n",
            "Epoch 7/100\n",
            "31/31 [==============================] - 26s 849ms/step - loss: 0.7890 - acc: 0.7712 - val_loss: 2.0271 - val_acc: 0.2500\n",
            "\n",
            "Epoch 00007: val_acc did not improve from 0.40625\n",
            "Epoch 8/100\n",
            "31/31 [==============================] - 26s 850ms/step - loss: 0.7795 - acc: 0.7893 - val_loss: 1.9588 - val_acc: 0.1562\n",
            "\n",
            "Epoch 00008: val_acc did not improve from 0.40625\n",
            "Epoch 9/100\n",
            "31/31 [==============================] - 26s 849ms/step - loss: 0.7137 - acc: 0.8034 - val_loss: 1.6125 - val_acc: 0.4062\n",
            "\n",
            "Epoch 00009: val_acc did not improve from 0.40625\n",
            "Epoch 10/100\n",
            "31/31 [==============================] - 26s 850ms/step - loss: 0.6887 - acc: 0.7984 - val_loss: 2.1470 - val_acc: 0.2188\n",
            "\n",
            "Epoch 00010: val_acc did not improve from 0.40625\n",
            "Epoch 11/100\n",
            "31/31 [==============================] - 26s 850ms/step - loss: 0.6243 - acc: 0.8266 - val_loss: 2.0430 - val_acc: 0.3125\n",
            "\n",
            "Epoch 00011: val_acc did not improve from 0.40625\n",
            "Epoch 12/100\n",
            "31/31 [==============================] - 26s 854ms/step - loss: 0.6179 - acc: 0.8246 - val_loss: 1.9148 - val_acc: 0.2500\n",
            "\n",
            "Epoch 00012: val_acc did not improve from 0.40625\n",
            "Epoch 13/100\n",
            "31/31 [==============================] - 27s 861ms/step - loss: 0.5800 - acc: 0.8347 - val_loss: 2.0870 - val_acc: 0.3750\n",
            "\n",
            "Epoch 00013: val_acc did not improve from 0.40625\n",
            "Epoch 14/100\n",
            "31/31 [==============================] - 27s 856ms/step - loss: 0.5634 - acc: 0.8417 - val_loss: 1.8217 - val_acc: 0.3125\n",
            "\n",
            "Epoch 00014: val_acc did not improve from 0.40625\n",
            "Epoch 15/100\n",
            "31/31 [==============================] - 26s 853ms/step - loss: 0.4933 - acc: 0.8488 - val_loss: 1.9873 - val_acc: 0.2188\n",
            "\n",
            "Epoch 00015: val_acc did not improve from 0.40625\n",
            "Epoch 16/100\n",
            "31/31 [==============================] - 26s 849ms/step - loss: 0.4615 - acc: 0.8750 - val_loss: 1.7904 - val_acc: 0.4375\n",
            "\n",
            "Epoch 00016: val_acc improved from 0.40625 to 0.43750, saving model to /content/drive/My Drive/cult_model.hdf5\n",
            "Epoch 17/100\n",
            "31/31 [==============================] - 26s 830ms/step - loss: 0.4910 - acc: 0.8456 - val_loss: 1.6268 - val_acc: 0.4375\n",
            "\n",
            "Epoch 00017: val_acc did not improve from 0.43750\n",
            "Epoch 18/100\n",
            "31/31 [==============================] - 26s 848ms/step - loss: 0.4653 - acc: 0.8669 - val_loss: 2.3230 - val_acc: 0.2812\n",
            "\n",
            "Epoch 00018: val_acc did not improve from 0.43750\n",
            "Epoch 19/100\n",
            "31/31 [==============================] - 26s 850ms/step - loss: 0.4006 - acc: 0.8911 - val_loss: 2.0437 - val_acc: 0.2500\n",
            "\n",
            "Epoch 00019: val_acc did not improve from 0.43750\n",
            "Epoch 20/100\n",
            "31/31 [==============================] - 26s 848ms/step - loss: 0.4310 - acc: 0.8770 - val_loss: 1.8405 - val_acc: 0.3750\n",
            "\n",
            "Epoch 00020: val_acc did not improve from 0.43750\n",
            "Epoch 21/100\n",
            "31/31 [==============================] - 26s 848ms/step - loss: 0.4395 - acc: 0.8700 - val_loss: 2.2436 - val_acc: 0.2812\n",
            "\n",
            "Epoch 00021: val_acc did not improve from 0.43750\n",
            "Epoch 22/100\n",
            "31/31 [==============================] - 26s 848ms/step - loss: 0.4121 - acc: 0.8740 - val_loss: 1.7271 - val_acc: 0.4375\n",
            "\n",
            "Epoch 00022: val_acc did not improve from 0.43750\n",
            "Epoch 23/100\n",
            "31/31 [==============================] - 26s 850ms/step - loss: 0.4005 - acc: 0.8901 - val_loss: 2.0739 - val_acc: 0.3750\n",
            "\n",
            "Epoch 00023: val_acc did not improve from 0.43750\n",
            "Epoch 24/100\n",
            "31/31 [==============================] - 26s 851ms/step - loss: 0.3647 - acc: 0.8881 - val_loss: 1.8255 - val_acc: 0.4375\n",
            "\n",
            "Epoch 00024: val_acc did not improve from 0.43750\n",
            "Epoch 25/100\n",
            "31/31 [==============================] - 26s 850ms/step - loss: 0.3787 - acc: 0.8891 - val_loss: 1.8199 - val_acc: 0.4375\n",
            "\n",
            "Epoch 00025: val_acc did not improve from 0.43750\n",
            "Epoch 26/100\n",
            "31/31 [==============================] - 26s 851ms/step - loss: 0.3357 - acc: 0.9002 - val_loss: 2.0819 - val_acc: 0.2812\n",
            "\n",
            "Epoch 00026: val_acc did not improve from 0.43750\n",
            "Epoch 27/100\n",
            "31/31 [==============================] - 26s 852ms/step - loss: 0.3182 - acc: 0.9103 - val_loss: 2.2176 - val_acc: 0.2812\n",
            "\n",
            "Epoch 00027: val_acc did not improve from 0.43750\n",
            "Epoch 28/100\n",
            "31/31 [==============================] - 27s 855ms/step - loss: 0.3088 - acc: 0.9183 - val_loss: 1.9996 - val_acc: 0.3750\n",
            "\n",
            "Epoch 00028: val_acc did not improve from 0.43750\n",
            "Epoch 29/100\n",
            "31/31 [==============================] - 27s 856ms/step - loss: 0.3135 - acc: 0.9163 - val_loss: 2.1852 - val_acc: 0.3438\n",
            "\n",
            "Epoch 00029: val_acc did not improve from 0.43750\n",
            "Epoch 30/100\n",
            "31/31 [==============================] - 27s 856ms/step - loss: 0.3105 - acc: 0.9083 - val_loss: 1.6828 - val_acc: 0.4688\n",
            "\n",
            "Epoch 00030: val_acc improved from 0.43750 to 0.46875, saving model to /content/drive/My Drive/cult_model.hdf5\n",
            "Epoch 31/100\n",
            "31/31 [==============================] - 27s 863ms/step - loss: 0.3077 - acc: 0.9224 - val_loss: 1.9741 - val_acc: 0.3750\n",
            "\n",
            "Epoch 00031: val_acc did not improve from 0.46875\n",
            "Epoch 32/100\n",
            "31/31 [==============================] - 27s 856ms/step - loss: 0.2918 - acc: 0.9052 - val_loss: 2.3005 - val_acc: 0.2812\n",
            "\n",
            "Epoch 00032: val_acc did not improve from 0.46875\n",
            "Epoch 33/100\n",
            "31/31 [==============================] - 26s 851ms/step - loss: 0.2644 - acc: 0.9254 - val_loss: 2.3277 - val_acc: 0.3750\n",
            "\n",
            "Epoch 00033: val_acc did not improve from 0.46875\n",
            "Epoch 34/100\n",
            "31/31 [==============================] - 26s 850ms/step - loss: 0.2825 - acc: 0.9234 - val_loss: 2.3653 - val_acc: 0.2812\n",
            "\n",
            "Epoch 00034: val_acc did not improve from 0.46875\n",
            "Epoch 35/100\n",
            "31/31 [==============================] - 26s 850ms/step - loss: 0.2734 - acc: 0.9224 - val_loss: 2.0368 - val_acc: 0.4375\n",
            "\n",
            "Epoch 00035: val_acc did not improve from 0.46875\n",
            "Epoch 36/100\n",
            "31/31 [==============================] - 26s 847ms/step - loss: 0.2814 - acc: 0.9173 - val_loss: 2.5873 - val_acc: 0.2812\n",
            "\n",
            "Epoch 00036: val_acc did not improve from 0.46875\n",
            "Epoch 37/100\n",
            "31/31 [==============================] - 26s 849ms/step - loss: 0.2900 - acc: 0.9103 - val_loss: 2.2650 - val_acc: 0.3438\n",
            "\n",
            "Epoch 00037: val_acc did not improve from 0.46875\n",
            "Epoch 38/100\n",
            "31/31 [==============================] - 26s 850ms/step - loss: 0.2736 - acc: 0.9103 - val_loss: 1.6496 - val_acc: 0.4375\n",
            "\n",
            "Epoch 00038: val_acc did not improve from 0.46875\n",
            "Epoch 39/100\n",
            "31/31 [==============================] - 26s 851ms/step - loss: 0.2793 - acc: 0.9123 - val_loss: 2.8526 - val_acc: 0.2188\n",
            "\n",
            "Epoch 00039: val_acc did not improve from 0.46875\n",
            "Epoch 40/100\n",
            "31/31 [==============================] - 27s 855ms/step - loss: 0.2548 - acc: 0.9274 - val_loss: 1.9245 - val_acc: 0.4062\n",
            "\n",
            "Epoch 00040: val_acc did not improve from 0.46875\n",
            "Epoch 41/100\n",
            "31/31 [==============================] - 27s 855ms/step - loss: 0.2378 - acc: 0.9254 - val_loss: 2.1761 - val_acc: 0.3750\n",
            "\n",
            "Epoch 00041: val_acc did not improve from 0.46875\n",
            "Epoch 42/100\n",
            "31/31 [==============================] - 27s 855ms/step - loss: 0.2029 - acc: 0.9345 - val_loss: 2.0032 - val_acc: 0.3750\n",
            "\n",
            "Epoch 00042: val_acc did not improve from 0.46875\n",
            "Epoch 43/100\n",
            "31/31 [==============================] - 27s 857ms/step - loss: 0.2157 - acc: 0.9446 - val_loss: 1.8191 - val_acc: 0.5312\n",
            "\n",
            "Epoch 00043: val_acc improved from 0.46875 to 0.53125, saving model to /content/drive/My Drive/cult_model.hdf5\n",
            "Epoch 44/100\n",
            "31/31 [==============================] - 27s 863ms/step - loss: 0.2568 - acc: 0.9173 - val_loss: 1.8486 - val_acc: 0.4062\n",
            "\n",
            "Epoch 00044: val_acc did not improve from 0.53125\n",
            "Epoch 45/100\n",
            "31/31 [==============================] - 27s 857ms/step - loss: 0.2241 - acc: 0.9365 - val_loss: 1.8875 - val_acc: 0.4688\n",
            "\n",
            "Epoch 00045: val_acc did not improve from 0.53125\n",
            "Epoch 46/100\n",
            "31/31 [==============================] - 27s 856ms/step - loss: 0.2194 - acc: 0.9405 - val_loss: 2.1556 - val_acc: 0.3750\n",
            "\n",
            "Epoch 00046: val_acc did not improve from 0.53125\n",
            "Epoch 47/100\n",
            "31/31 [==============================] - 26s 854ms/step - loss: 0.2004 - acc: 0.9385 - val_loss: 2.3135 - val_acc: 0.3750\n",
            "\n",
            "Epoch 00047: val_acc did not improve from 0.53125\n",
            "Epoch 48/100\n",
            "31/31 [==============================] - 26s 851ms/step - loss: 0.2333 - acc: 0.9405 - val_loss: 1.5268 - val_acc: 0.5000\n",
            "\n",
            "Epoch 00048: val_acc did not improve from 0.53125\n",
            "Epoch 49/100\n",
            "31/31 [==============================] - 26s 852ms/step - loss: 0.2132 - acc: 0.9405 - val_loss: 1.9070 - val_acc: 0.5000\n",
            "\n",
            "Epoch 00049: val_acc did not improve from 0.53125\n",
            "Epoch 50/100\n",
            "31/31 [==============================] - 26s 852ms/step - loss: 0.1854 - acc: 0.9425 - val_loss: 2.7580 - val_acc: 0.3438\n",
            "\n",
            "Epoch 00050: val_acc did not improve from 0.53125\n",
            "Epoch 51/100\n",
            "31/31 [==============================] - 26s 849ms/step - loss: 0.1940 - acc: 0.9466 - val_loss: 2.6318 - val_acc: 0.2812\n",
            "\n",
            "Epoch 00051: val_acc did not improve from 0.53125\n",
            "Epoch 52/100\n",
            "31/31 [==============================] - 26s 850ms/step - loss: 0.2030 - acc: 0.9375 - val_loss: 2.3249 - val_acc: 0.4062\n",
            "\n",
            "Epoch 00052: val_acc did not improve from 0.53125\n",
            "Epoch 53/100\n",
            "31/31 [==============================] - 26s 849ms/step - loss: 0.1855 - acc: 0.9546 - val_loss: 2.4357 - val_acc: 0.3438\n",
            "\n",
            "Epoch 00053: val_acc did not improve from 0.53125\n",
            "Epoch 54/100\n",
            "31/31 [==============================] - 26s 850ms/step - loss: 0.1993 - acc: 0.9375 - val_loss: 2.0547 - val_acc: 0.4062\n",
            "\n",
            "Epoch 00054: val_acc did not improve from 0.53125\n",
            "Epoch 55/100\n",
            "31/31 [==============================] - 26s 852ms/step - loss: 0.2016 - acc: 0.9325 - val_loss: 2.2949 - val_acc: 0.4062\n",
            "\n",
            "Epoch 00055: val_acc did not improve from 0.53125\n",
            "Epoch 56/100\n",
            "31/31 [==============================] - 26s 850ms/step - loss: 0.1877 - acc: 0.9496 - val_loss: 1.9696 - val_acc: 0.4375\n",
            "\n",
            "Epoch 00056: val_acc did not improve from 0.53125\n",
            "Epoch 57/100\n",
            "31/31 [==============================] - 26s 848ms/step - loss: 0.1637 - acc: 0.9567 - val_loss: 1.0719 - val_acc: 0.7188\n",
            "\n",
            "Epoch 00057: val_acc improved from 0.53125 to 0.71875, saving model to /content/drive/My Drive/cult_model.hdf5\n",
            "Epoch 58/100\n",
            "31/31 [==============================] - 26s 851ms/step - loss: 0.1768 - acc: 0.9435 - val_loss: 2.0257 - val_acc: 0.4062\n",
            "\n",
            "Epoch 00058: val_acc did not improve from 0.71875\n",
            "Epoch 59/100\n",
            "31/31 [==============================] - 27s 860ms/step - loss: 0.1717 - acc: 0.9476 - val_loss: 1.5655 - val_acc: 0.6562\n",
            "\n",
            "Epoch 00059: val_acc did not improve from 0.71875\n",
            "Epoch 60/100\n",
            "31/31 [==============================] - 27s 862ms/step - loss: 0.1877 - acc: 0.9415 - val_loss: 2.0849 - val_acc: 0.4062\n",
            "\n",
            "Epoch 00060: val_acc did not improve from 0.71875\n",
            "Epoch 61/100\n",
            "31/31 [==============================] - 27s 857ms/step - loss: 0.1855 - acc: 0.9365 - val_loss: 2.1887 - val_acc: 0.3125\n",
            "\n",
            "Epoch 00061: val_acc did not improve from 0.71875\n",
            "Epoch 62/100\n",
            "31/31 [==============================] - 26s 853ms/step - loss: 0.2009 - acc: 0.9395 - val_loss: 1.8982 - val_acc: 0.3438\n",
            "\n",
            "Epoch 00062: val_acc did not improve from 0.71875\n",
            "Epoch 63/100\n",
            "31/31 [==============================] - 26s 850ms/step - loss: 0.1463 - acc: 0.9556 - val_loss: 2.3746 - val_acc: 0.4375\n",
            "\n",
            "Epoch 00063: val_acc did not improve from 0.71875\n",
            "Epoch 64/100\n",
            "31/31 [==============================] - 26s 850ms/step - loss: 0.1642 - acc: 0.9536 - val_loss: 2.4013 - val_acc: 0.3438\n",
            "\n",
            "Epoch 00064: val_acc did not improve from 0.71875\n",
            "Epoch 65/100\n",
            "31/31 [==============================] - 26s 850ms/step - loss: 0.1516 - acc: 0.9577 - val_loss: 1.9631 - val_acc: 0.5625\n",
            "\n",
            "Epoch 00065: val_acc did not improve from 0.71875\n",
            "Epoch 66/100\n",
            "31/31 [==============================] - 26s 850ms/step - loss: 0.1744 - acc: 0.9506 - val_loss: 2.4781 - val_acc: 0.3438\n",
            "\n",
            "Epoch 00066: val_acc did not improve from 0.71875\n",
            "Epoch 67/100\n",
            "31/31 [==============================] - 26s 850ms/step - loss: 0.1534 - acc: 0.9556 - val_loss: 2.1707 - val_acc: 0.4688\n",
            "\n",
            "Epoch 00067: val_acc did not improve from 0.71875\n",
            "Epoch 68/100\n",
            "31/31 [==============================] - 26s 851ms/step - loss: 0.1640 - acc: 0.9415 - val_loss: 1.8293 - val_acc: 0.4688\n",
            "\n",
            "Epoch 00068: val_acc did not improve from 0.71875\n",
            "Epoch 69/100\n",
            "31/31 [==============================] - 26s 853ms/step - loss: 0.1713 - acc: 0.9456 - val_loss: 2.4750 - val_acc: 0.4375\n",
            "\n",
            "Epoch 00069: val_acc did not improve from 0.71875\n",
            "Epoch 70/100\n",
            "31/31 [==============================] - 27s 857ms/step - loss: 0.1692 - acc: 0.9546 - val_loss: 2.4391 - val_acc: 0.3125\n",
            "\n",
            "Epoch 00070: val_acc did not improve from 0.71875\n",
            "Epoch 71/100\n",
            "31/31 [==============================] - 27s 856ms/step - loss: 0.1595 - acc: 0.9435 - val_loss: 2.4760 - val_acc: 0.4062\n",
            "\n",
            "Epoch 00071: val_acc did not improve from 0.71875\n",
            "Epoch 72/100\n",
            "31/31 [==============================] - 27s 859ms/step - loss: 0.1419 - acc: 0.9607 - val_loss: 2.7476 - val_acc: 0.3125\n",
            "\n",
            "Epoch 00072: val_acc did not improve from 0.71875\n",
            "Epoch 73/100\n",
            "31/31 [==============================] - 27s 858ms/step - loss: 0.1524 - acc: 0.9506 - val_loss: 2.1075 - val_acc: 0.4375\n",
            "\n",
            "Epoch 00073: val_acc did not improve from 0.71875\n",
            "Epoch 74/100\n",
            "26/31 [========================>.....] - ETA: 4s - loss: 0.1588 - acc: 0.9567"
          ],
          "name": "stdout"
        }
      ]
    },
    {
      "cell_type": "code",
      "metadata": {
        "id": "RhDSAEdaPW72",
        "colab_type": "code",
        "colab": {}
      },
      "source": [
        "# import the necessary packages\n",
        "from keras.models import load_model\n",
        "from collections import deque\n",
        "import numpy as np\n",
        "import cv2\n",
        "\n",
        "model = load_model(fileName)\n",
        "\n",
        "Q = deque(maxlen=10)\n",
        "\n",
        "# initialize the video stream, pointer to output video file, and\n",
        "# frame dimensions\n",
        "vs = cv2.VideoCapture()\n",
        "writer = None\n",
        "(W, H) = (None, None)\n",
        " \n",
        "# loop over frames from the video file stream\n",
        "while True:\n",
        "\t# read the next frame from the file\n",
        "\t(grabbed, frame) = vs.read()\n",
        " \n",
        "\t# if the frame was not grabbed, then we have reached the end\n",
        "\t# of the stream\n",
        "\tif not grabbed:\n",
        "\t\tbreak\n",
        " \n",
        "\t# if the frame dimensions are empty, grab them\n",
        "\tif W is None or H is None:\n",
        "\t\t(H, W) = frame.shape[:2]"
      ],
      "execution_count": 0,
      "outputs": []
    },
    {
      "cell_type": "code",
      "metadata": {
        "id": "SuFDIxOA2BQ0",
        "colab_type": "code",
        "colab": {}
      },
      "source": [
        "loss, acc = model.evaluate_generator(test_generator, steps=100, verbose=0)"
      ],
      "execution_count": 0,
      "outputs": []
    },
    {
      "cell_type": "code",
      "metadata": {
        "id": "gIMDPk4k9GVC",
        "colab_type": "code",
        "outputId": "17c5486e-dcf0-418c-b3e0-557a49da51d2",
        "colab": {
          "base_uri": "https://localhost:8080/",
          "height": 258
        }
      },
      "source": [
        "# memory footprint support libraries/code\n",
        "!ln -sf /opt/bin/nvidia-smi /usr/bin/nvidia-smi\n",
        "!pip install gputil\n",
        "!pip install psutil\n",
        "!pip install humanize\n",
        "\n",
        "import psutil\n",
        "import humanize\n",
        "import os\n",
        "import GPUtil as GPU\n",
        "GPUs = GPU.getGPUs()\n",
        "\n",
        "# XXX: only one GPU on Colab and isn’t guaranteed\n",
        "gpu = GPUs[0]\n",
        "def printm():\n",
        "  process = psutil.Process(os.getpid())\n",
        "  print(\"Gen RAM Free: \" + humanize.naturalsize( psutil.virtual_memory().available ), \" | Proc size: \" + humanize.naturalsize( process.memory_info().rss))\n",
        "  print(\"GPU RAM Free: {0:.0f}MB | Used: {1:.0f}MB | Util {2:3.0f}% | Total {3:.0f}MB\".format(gpu.memoryFree, gpu.memoryUsed, gpu.memoryUtil*100, gpu.memoryTotal))\n",
        "\n",
        "printm()"
      ],
      "execution_count": 0,
      "outputs": [
        {
          "output_type": "stream",
          "text": [
            "Collecting gputil\n",
            "  Downloading https://files.pythonhosted.org/packages/ed/0e/5c61eedde9f6c87713e89d794f01e378cfd9565847d4576fa627d758c554/GPUtil-1.4.0.tar.gz\n",
            "Building wheels for collected packages: gputil\n",
            "  Building wheel for gputil (setup.py) ... \u001b[?25l\u001b[?25hdone\n",
            "  Created wheel for gputil: filename=GPUtil-1.4.0-cp36-none-any.whl size=7410 sha256=68dcb84d83b014db1c20348c1b73245fabfb64ed58e92e25660dc8f921b6931a\n",
            "  Stored in directory: /root/.cache/pip/wheels/3d/77/07/80562de4bb0786e5ea186911a2c831fdd0018bda69beab71fd\n",
            "Successfully built gputil\n",
            "Installing collected packages: gputil\n",
            "Successfully installed gputil-1.4.0\n",
            "Requirement already satisfied: psutil in /usr/local/lib/python3.6/dist-packages (5.4.8)\n",
            "Requirement already satisfied: humanize in /usr/local/lib/python3.6/dist-packages (0.5.1)\n",
            "Gen RAM Free: 10.8 GB  | Proc size: 3.1 GB\n",
            "GPU RAM Free: 3021MB | Used: 8420MB | Util  74% | Total 11441MB\n"
          ],
          "name": "stdout"
        }
      ]
    },
    {
      "cell_type": "code",
      "metadata": {
        "id": "w598p8kqTVBM",
        "colab_type": "code",
        "colab": {}
      },
      "source": [
        "Inference"
      ],
      "execution_count": 0,
      "outputs": []
    },
    {
      "cell_type": "code",
      "metadata": {
        "id": "IowR7DtKOvyX",
        "colab_type": "code",
        "colab": {}
      },
      "source": [
        "def most_frequent(List): \n",
        "    counter = 0\n",
        "    num = List[0] \n",
        "      \n",
        "    for i in List: \n",
        "        curr_frequency = List.count(i) \n",
        "        if(curr_frequency> counter): \n",
        "            counter = curr_frequency \n",
        "            num = i \n",
        "  \n",
        "    return num \n",
        "all_images = [x for x in os.listdir(\"full_data/train/squats/\") if \"squat_1\" in x]\n",
        "import numpy as np\n",
        "preds = []\n",
        "for i in range(len(all_images)):\n",
        "  image = cv2.resize(preprocess_input(all_images[i]), (224, 224)).astype(\"float32\")\n",
        "  pred = np.argmax(model.predict([image]))\n",
        "  preds.append(pred)\n",
        "\n",
        "out = []\n",
        "for i in range(len(preds[10:])):\n",
        "  out.append(most_frequent(preds[i:i+10]))\n",
        "print(out)  "
      ],
      "execution_count": 0,
      "outputs": []
    }
  ]
}