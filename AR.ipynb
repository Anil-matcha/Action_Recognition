{
  "nbformat": 4,
  "nbformat_minor": 0,
  "metadata": {
    "colab": {
      "name": "AR.ipynb",
      "provenance": [],
      "include_colab_link": true
    },
    "kernelspec": {
      "name": "python3",
      "display_name": "Python 3"
    },
    "accelerator": "GPU"
  },
  "cells": [
    {
      "cell_type": "markdown",
      "metadata": {
        "id": "view-in-github",
        "colab_type": "text"
      },
      "source": [
        "<a href=\"https://colab.research.google.com/github/Anil-matcha/Action_Recognition/blob/master/AR.ipynb\" target=\"_parent\"><img src=\"https://colab.research.google.com/assets/colab-badge.svg\" alt=\"Open In Colab\"/></a>"
      ]
    },
    {
      "cell_type": "code",
      "metadata": {
        "id": "zS2HkfSWZSLq",
        "colab_type": "code",
        "outputId": "6e4ed316-f1bd-465a-8477-c1296b74f63e",
        "colab": {
          "base_uri": "https://localhost:8080/",
          "height": 34
        }
      },
      "source": [
        "from google.colab import drive\n",
        "drive.mount('/content/drive', force_remount=True)\n",
        "#drive.unmount('/content/drive')#, force_remount=True)"
      ],
      "execution_count": 0,
      "outputs": [
        {
          "output_type": "stream",
          "text": [
            "Mounted at /content/drive\n"
          ],
          "name": "stdout"
        }
      ]
    },
    {
      "cell_type": "code",
      "metadata": {
        "id": "Cd0WZtmF0ozu",
        "colab_type": "code",
        "colab": {}
      },
      "source": [
        "!cp /content/drive/'My Drive'/full_data.zip ."
      ],
      "execution_count": 0,
      "outputs": []
    },
    {
      "cell_type": "code",
      "metadata": {
        "id": "biOS1FHb2bIU",
        "colab_type": "code",
        "colab": {}
      },
      "source": [
        "!cp /content/drive/'My Drive'/extras.zip ."
      ],
      "execution_count": 0,
      "outputs": []
    },
    {
      "cell_type": "code",
      "metadata": {
        "id": "Astt9GGu2eyr",
        "colab_type": "code",
        "colab": {}
      },
      "source": [
        "!unzip -qq extras.zip"
      ],
      "execution_count": 0,
      "outputs": []
    },
    {
      "cell_type": "code",
      "metadata": {
        "id": "75fLRq5i2nCy",
        "colab_type": "code",
        "colab": {}
      },
      "source": [
        "!cp /content/drive/'My Drive'/action_data2.zip ."
      ],
      "execution_count": 0,
      "outputs": []
    },
    {
      "cell_type": "code",
      "metadata": {
        "id": "sQ-P1K1x20v3",
        "colab_type": "code",
        "colab": {}
      },
      "source": [
        "!unzip -qq action_data2.zip "
      ],
      "execution_count": 0,
      "outputs": []
    },
    {
      "cell_type": "code",
      "metadata": {
        "id": "Eo7byTgj0vpj",
        "colab_type": "code",
        "colab": {}
      },
      "source": [
        "!unzip -qq full_data.zip"
      ],
      "execution_count": 0,
      "outputs": []
    },
    {
      "cell_type": "code",
      "metadata": {
        "id": "CyWe0-GM2-YB",
        "colab_type": "code",
        "colab": {}
      },
      "source": [
        "!mkdir valid\n",
        "!mkdir valid/burpees\n",
        "!mkdir valid/mcs\n",
        "!mkdir valid/squats\n",
        "!mkdir valid/jj\n",
        "!mkdir valid/planks\n",
        "!mkdir valid/pushups"
      ],
      "execution_count": 0,
      "outputs": []
    },
    {
      "cell_type": "code",
      "metadata": {
        "id": "eRC0Jk7r3WRW",
        "colab_type": "code",
        "colab": {}
      },
      "source": [
        "!mv action_data_2/squats/squat2_1_* valid/squats/\n",
        "!mv action_data_2/jj/jumping_jacks2_1_* valid/jj/\n",
        "!mv action_data_2/mcs/mountain_climber2_1_* valid/mcs/\n",
        "!mv action_data_2/planks/plank2_1_* valid/planks/\n",
        "!mv action_data_2/burpees/burpee2_1_* valid/burpees/\n",
        "!mv action_data_2/pushups/pushup2_1_* valid/pushups/"
      ],
      "execution_count": 0,
      "outputs": []
    },
    {
      "cell_type": "code",
      "metadata": {
        "id": "hUhp9-VR4aDL",
        "colab_type": "code",
        "colab": {}
      },
      "source": [
        "!mv action_data_2/squats/* full_data/train/squats/\n",
        "!mv action_data_2/jj/* full_data/train/jj/\n",
        "!mv action_data_2/mcs/* full_data/train/mcs/\n",
        "!mv action_data_2/planks/* full_data/train/planks/\n",
        "!mv action_data_2/burpees/* full_data/train/burpees/\n",
        "!mv action_data_2/pushups/* full_data/train/pushups/"
      ],
      "execution_count": 0,
      "outputs": []
    },
    {
      "cell_type": "code",
      "metadata": {
        "id": "EOyCISgZ45Oh",
        "colab_type": "code",
        "colab": {}
      },
      "source": [
        "!mkdir valid/extras\n",
        "!mkdir full_data/train/extras"
      ],
      "execution_count": 0,
      "outputs": []
    },
    {
      "cell_type": "code",
      "metadata": {
        "id": "td2oXScl4zW6",
        "colab_type": "code",
        "colab": {}
      },
      "source": [
        "!mv extras/extra_1* valid/extras/\n",
        "!mv extras/* full_data/train/extras/"
      ],
      "execution_count": 0,
      "outputs": []
    },
    {
      "cell_type": "code",
      "metadata": {
        "id": "vvKf5Nbp5Jj6",
        "colab_type": "code",
        "colab": {}
      },
      "source": [
        "!mv valid full_data/"
      ],
      "execution_count": 0,
      "outputs": []
    },
    {
      "cell_type": "code",
      "metadata": {
        "id": "dn2-zxxP5Pcn",
        "colab_type": "code",
        "colab": {}
      },
      "source": [
        "!zip -qr full_data_new.zip full_data"
      ],
      "execution_count": 0,
      "outputs": []
    },
    {
      "cell_type": "code",
      "metadata": {
        "id": "gtab2LhP5WZp",
        "colab_type": "code",
        "outputId": "d86389a3-4ead-48d2-e645-fcc8ba0437c4",
        "colab": {
          "base_uri": "https://localhost:8080/",
          "height": 34
        }
      },
      "source": [
        "!cp full_data_new.zip /content/drive/'My Drive'/"
      ],
      "execution_count": 0,
      "outputs": [
        {
          "output_type": "stream",
          "text": [
            "cp: cannot create regular file '/content/drive/My Drive/': Not a directory\n"
          ],
          "name": "stdout"
        }
      ]
    },
    {
      "cell_type": "code",
      "metadata": {
        "id": "U5djeJek3jzh",
        "colab_type": "code",
        "colab": {}
      },
      "source": [
        "!ls action_data_2/squats"
      ],
      "execution_count": 0,
      "outputs": []
    },
    {
      "cell_type": "code",
      "metadata": {
        "id": "naK3Lsj4ZZkf",
        "colab_type": "code",
        "outputId": "83b576af-2d99-4ec2-923a-8fc918c2ec24",
        "colab": {
          "base_uri": "https://localhost:8080/",
          "height": 1000
        }
      },
      "source": [
        "import cv2, os\n",
        "print(cv2.__version__)\n",
        "videos = os.listdir(\"/content/drive/My Drive/excercise\")\n",
        "for video_name in videos:\n",
        "  print(video_name)\n",
        "  vidcap = cv2.VideoCapture(\"/content/drive/My Drive/excercise/\"+video_name)\n",
        "  success,image = vidcap.read()\n",
        "  count = 0\n",
        "  success = True\n",
        "  print(video_name)\n",
        "  os.mkdir(video_name)\n",
        "  while success:\n",
        "    if count%10000 == 0: \n",
        "      cv2.imwrite(video_name+\"/frame%d.jpg\" % count, image)     # save frame as JPEG file\n",
        "      success,image = vidcap.read()\n",
        "      #print('Read a new frame: ', success)\n",
        "    count += 1"
      ],
      "execution_count": 0,
      "outputs": [
        {
          "output_type": "stream",
          "text": [
            "3.4.3\n",
            "mountain_climber_5.mp4\n",
            "mountain_climber_5.mp4\n",
            "burpee_1.mp4\n",
            "burpee_1.mp4\n",
            "plank_3.mp4\n",
            "plank_3.mp4\n",
            "plank_6.mp4\n",
            "plank_6.mp4\n",
            "Thumbs.db\n",
            "Thumbs.db\n",
            "burpee_2.mp4\n",
            "burpee_2.mp4\n",
            "burpee_3.mp4\n",
            "burpee_3.mp4\n",
            "jumping_jacks_1.mp4\n",
            "jumping_jacks_1.mp4\n",
            "jumping_jacks_2.mp4\n",
            "jumping_jacks_2.mp4\n",
            "jumping_jacks_3.mp4\n",
            "jumping_jacks_3.mp4\n",
            "jumping_jacks_4.mp4\n",
            "jumping_jacks_4.mp4\n",
            "jumping_jacks_5.mp4\n",
            "jumping_jacks_5.mp4\n",
            "jumping_jacks_6.mp4\n",
            "jumping_jacks_6.mp4\n",
            "jumping_jacks_7.mp4\n",
            "jumping_jacks_7.mp4\n",
            "mountain_climber_1.mp4\n",
            "mountain_climber_1.mp4\n",
            "mountain_climber_2.mp4\n",
            "mountain_climber_2.mp4\n",
            "plank_1.mp4\n",
            "plank_1.mp4\n",
            "mountain_climber_4.mp4\n",
            "mountain_climber_4.mp4\n",
            "mountain_climber_3.mp4\n",
            "mountain_climber_3.mp4\n",
            "plank_4.mp4\n",
            "plank_4.mp4\n",
            "plank_2.mp4\n",
            "plank_2.mp4\n",
            "plank_5.mp4\n",
            "plank_5.mp4\n",
            "squat_2.mp4\n",
            "squat_2.mp4\n",
            "squat_1.mp4\n",
            "squat_1.mp4\n",
            "pushup_1.mp4\n",
            "pushup_1.mp4\n",
            "squat_6.mp4\n",
            "squat_6.mp4\n",
            "squat_5.mp4\n",
            "squat_5.mp4\n",
            "squat_4.mp4\n",
            "squat_4.mp4\n",
            "squat_3.mp4\n",
            "squat_3.mp4\n"
          ],
          "name": "stdout"
        }
      ]
    },
    {
      "cell_type": "code",
      "metadata": {
        "id": "qB700QbFaO_m",
        "colab_type": "code",
        "colab": {}
      },
      "source": [
        "!rm -rf *mp4 Thumbs.db pushups mcs jj planks squats burpees"
      ],
      "execution_count": 0,
      "outputs": []
    },
    {
      "cell_type": "code",
      "metadata": {
        "id": "2I18In1RZpur",
        "colab_type": "code",
        "outputId": "bc428b5f-e086-4232-d90c-d2a3d314db42",
        "colab": {
          "base_uri": "https://localhost:8080/",
          "height": 241
        }
      },
      "source": [
        "import os, shutil\n",
        "def copy_dir(name, f1):\n",
        "  print(f1)\n",
        "  fnames = [x for x in os.listdir(\".\") if name in x]\n",
        "  print(fnames)\n",
        "  os.mkdir(f1)\n",
        "  count = 0\n",
        "  for x in fnames:\n",
        "    fx = os.listdir(x)\n",
        "    for f in fx:\n",
        "      #print(x+\"/\"+f)\n",
        "      shutil.copy(x+\"/\"+f, f1+\"/\"+x.split(\".\")[0]+\"_\"+f)\n",
        "copy_dir(\"pushup\", \"pushups\")\n",
        "copy_dir(\"mountain_climber\", \"mcs\")\n",
        "copy_dir(\"squat\", \"squats\")\n",
        "copy_dir(\"plank\", \"planks\")\n",
        "copy_dir(\"jumping\", \"jj\")\n",
        "copy_dir(\"burpee\", \"burpees\")"
      ],
      "execution_count": 0,
      "outputs": [
        {
          "output_type": "stream",
          "text": [
            "pushups\n",
            "['pushup_1.mp4']\n",
            "mcs\n",
            "['mountain_climber_3.mp4', 'mountain_climber_5.mp4', 'mountain_climber_4.mp4', 'mountain_climber_1.mp4', 'mountain_climber_2.mp4']\n",
            "squats\n",
            "['squat_2.mp4', 'squat_5.mp4', 'squat_1.mp4', 'squat_4.mp4', 'squat_6.mp4', 'squat_3.mp4']\n",
            "planks\n",
            "['plank_2.mp4', 'plank_1.mp4', 'plank_4.mp4', 'plank_6.mp4', 'plank_5.mp4', 'plank_3.mp4']\n",
            "jj\n",
            "['jumping_jacks_4.mp4', 'jumping_jacks_1.mp4', 'jumping_jacks_2.mp4', 'jumping_jacks_6.mp4', 'jumping_jacks_7.mp4', 'jumping_jacks_3.mp4', 'jumping_jacks_5.mp4']\n",
            "burpees\n",
            "['burpee_3.mp4', 'burpee_2.mp4', 'burpee_1.mp4']\n"
          ],
          "name": "stdout"
        }
      ]
    },
    {
      "cell_type": "code",
      "metadata": {
        "id": "tFaGqNI2Z392",
        "colab_type": "code",
        "colab": {}
      },
      "source": [
        "!mkdir action_data\n",
        "!mv pushups action_data/\n",
        "!mv jj action_data/\n",
        "!mv mcs action_data/\n",
        "!mv squats action_data/\n",
        "!mv planks action_data/\n",
        "!mv burpees action_data/"
      ],
      "execution_count": 0,
      "outputs": []
    },
    {
      "cell_type": "code",
      "metadata": {
        "id": "Y1MP2ZihZ6w-",
        "colab_type": "code",
        "colab": {}
      },
      "source": [
        "!zip -qr action_data.zip action_data"
      ],
      "execution_count": 0,
      "outputs": []
    },
    {
      "cell_type": "code",
      "metadata": {
        "id": "aG8G9AhpZ9Dc",
        "colab_type": "code",
        "colab": {}
      },
      "source": [
        "!cp action_data.zip /content/drive/'My Drive'/"
      ],
      "execution_count": 0,
      "outputs": []
    },
    {
      "cell_type": "code",
      "metadata": {
        "id": "rpJauBediLyU",
        "colab_type": "code",
        "colab": {}
      },
      "source": [
        "import keras\n",
        "import numpy as np\n",
        "from keras.applications import resnet50\n",
        " \n",
        "#Load the ResNet50 model\n",
        "resnet_model = resnet50.ResNet50(weights='imagenet')"
      ],
      "execution_count": 0,
      "outputs": []
    },
    {
      "cell_type": "code",
      "metadata": {
        "id": "VY14dbf2ioii",
        "colab_type": "code",
        "colab": {}
      },
      "source": [
        "from keras.layers import Conv2D, Dense, Dropout\n",
        "from keras.models import Model\n",
        "resnet_model.layers.pop()\n",
        "dense_1 = Dense(400, activation='relu', name='dense_1')(resnet_model.layers[-1].output)\n",
        "dense_1 = Dropout(0.2)(dense_1)\n",
        "final = Dense(7, activation='softmax', name='final')(dense_1)\n",
        "model = Model(input=resnet_model.layers[0].input, output=[final])\n",
        "model.summary()"
      ],
      "execution_count": 0,
      "outputs": []
    },
    {
      "cell_type": "code",
      "metadata": {
        "id": "tlt0JUF3jNBL",
        "colab_type": "code",
        "colab": {}
      },
      "source": [
        "from keras.applications.resnet50 import preprocess_input, decode_predictions\n",
        "from keras.preprocessing.image import ImageDataGenerator\n",
        "train_datagen = ImageDataGenerator(\n",
        "        shear_range=0,\n",
        "        zoom_range=0,\n",
        "        preprocessing_function = preprocess_input,\n",
        "        horizontal_flip=False,\n",
        "        width_shift_range=0,  # randomly shift images horizontally (fraction of total width)\n",
        "        height_shift_range=0)\n",
        "test_datagen = ImageDataGenerator(\n",
        "        shear_range=0,\n",
        "        zoom_range=0,\n",
        "        preprocessing_function = preprocess_input,\n",
        "        horizontal_flip=False,\n",
        "        width_shift_range=0,  # randomly shift images horizontally (fraction of total width)\n",
        "        height_shift_range=0)"
      ],
      "execution_count": 0,
      "outputs": []
    },
    {
      "cell_type": "code",
      "metadata": {
        "id": "mVIPSNbGjUUP",
        "colab_type": "code",
        "outputId": "9dfd4b1e-5c02-4187-8cff-d98a4c596f96",
        "colab": {
          "base_uri": "https://localhost:8080/",
          "height": 51
        }
      },
      "source": [
        "from keras.callbacks import ModelCheckpoint\n",
        "\n",
        "train_generator = train_datagen.flow_from_directory(\n",
        "    directory=r\"./full_data/train/\",\n",
        "    target_size=(224, 224),\n",
        "    color_mode=\"rgb\",\n",
        "    batch_size=32,\n",
        "    class_mode=\"categorical\",\n",
        "    shuffle=True,\n",
        "    seed=42\n",
        ")\n",
        "test_generator = test_datagen.flow_from_directory(\n",
        "    directory=r\"./full_data/valid/\",\n",
        "    target_size=(224, 224),\n",
        "    color_mode=\"rgb\",\n",
        "    batch_size=32,\n",
        "    class_mode=\"categorical\",\n",
        "    shuffle=True,\n",
        "    seed=42\n",
        ")\n",
        "\n",
        "fileName = '/content/drive/My Drive/cult_model.hdf5'\n",
        "\n",
        "checkpoint = ModelCheckpoint(fileName,monitor='val_acc', verbose=1, save_best_only=True, mode='auto')"
      ],
      "execution_count": 0,
      "outputs": [
        {
          "output_type": "stream",
          "text": [
            "Found 98338 images belonging to 7 classes.\n",
            "Found 12457 images belonging to 7 classes.\n"
          ],
          "name": "stdout"
        }
      ]
    },
    {
      "cell_type": "code",
      "metadata": {
        "id": "68ieBPnrNlLN",
        "colab_type": "code",
        "outputId": "82a1e933-b9c4-44e5-c7f0-413cf644b2b0",
        "colab": {
          "base_uri": "https://localhost:8080/",
          "height": 34
        }
      },
      "source": [
        ""
      ],
      "execution_count": 0,
      "outputs": [
        {
          "output_type": "stream",
          "text": [
            "ls: cannot access 'content/My Drive': No such file or directory\n"
          ],
          "name": "stdout"
        }
      ]
    },
    {
      "cell_type": "code",
      "metadata": {
        "id": "iGCgZrzEjWUz",
        "colab_type": "code",
        "colab": {}
      },
      "source": [
        "#for layer in model.layers[:-2]:\n",
        "  #layer.trainable = False"
      ],
      "execution_count": 0,
      "outputs": []
    },
    {
      "cell_type": "code",
      "metadata": {
        "id": "zOja0a_rB5Uo",
        "colab_type": "code",
        "colab": {}
      },
      "source": [
        "!cp full_data_new.zip drive/'My Drive'/"
      ],
      "execution_count": 0,
      "outputs": []
    },
    {
      "cell_type": "code",
      "metadata": {
        "id": "i0_Ptm_vjh1s",
        "colab_type": "code",
        "outputId": "8542e2e1-e264-417c-efee-338b7c6cc045",
        "colab": {
          "base_uri": "https://localhost:8080/",
          "height": 1000
        }
      },
      "source": [
        "from keras.optimizers import SGD\n",
        "batch_size = 256\n",
        "learning_rate = 0.0001\n",
        "sgd = SGD(lr=learning_rate, decay=0.0001, momentum=0.9, nesterov=True)\n",
        "model.compile(loss='categorical_crossentropy',\n",
        "                  optimizer=sgd,\n",
        "                  metrics=['accuracy'])\n",
        "model.fit_generator(\n",
        "        train_generator,\n",
        "        steps_per_epoch=8000 // batch_size,\n",
        "        epochs=100,\n",
        "        validation_data=test_generator,\n",
        "        validation_steps=400 // batch_size,\n",
        "        callbacks = [checkpoint])"
      ],
      "execution_count": 92,
      "outputs": [
        {
          "output_type": "stream",
          "text": [
            "Epoch 1/100\n",
            "31/31 [==============================] - 58s 2s/step - loss: 1.4419 - acc: 0.5292 - val_loss: 2.0851 - val_acc: 0.1875\n",
            "\n",
            "Epoch 00001: val_acc improved from 0.15625 to 0.18750, saving model to /content/drive/My Drive/cult_model.hdf5\n",
            "Epoch 2/100\n",
            "31/31 [==============================] - 26s 844ms/step - loss: 1.3036 - acc: 0.5696 - val_loss: 2.2486 - val_acc: 0.1250\n",
            "\n",
            "Epoch 00002: val_acc did not improve from 0.18750\n",
            "Epoch 3/100\n",
            "31/31 [==============================] - 26s 847ms/step - loss: 1.1711 - acc: 0.6129 - val_loss: 2.3670 - val_acc: 0.0938\n",
            "\n",
            "Epoch 00003: val_acc did not improve from 0.18750\n",
            "Epoch 4/100\n",
            "31/31 [==============================] - 26s 848ms/step - loss: 1.0708 - acc: 0.6754 - val_loss: 2.0778 - val_acc: 0.2188\n",
            "\n",
            "Epoch 00004: val_acc improved from 0.18750 to 0.21875, saving model to /content/drive/My Drive/cult_model.hdf5\n",
            "Epoch 5/100\n",
            "31/31 [==============================] - 26s 848ms/step - loss: 0.9312 - acc: 0.7147 - val_loss: 1.7252 - val_acc: 0.4062\n",
            "\n",
            "Epoch 00005: val_acc improved from 0.21875 to 0.40625, saving model to /content/drive/My Drive/cult_model.hdf5\n",
            "Epoch 6/100\n",
            "31/31 [==============================] - 26s 849ms/step - loss: 0.8826 - acc: 0.7470 - val_loss: 1.9953 - val_acc: 0.2188\n",
            "\n",
            "Epoch 00006: val_acc did not improve from 0.40625\n",
            "Epoch 7/100\n",
            "31/31 [==============================] - 26s 849ms/step - loss: 0.7890 - acc: 0.7712 - val_loss: 2.0271 - val_acc: 0.2500\n",
            "\n",
            "Epoch 00007: val_acc did not improve from 0.40625\n",
            "Epoch 8/100\n",
            "31/31 [==============================] - 26s 850ms/step - loss: 0.7795 - acc: 0.7893 - val_loss: 1.9588 - val_acc: 0.1562\n",
            "\n",
            "Epoch 00008: val_acc did not improve from 0.40625\n",
            "Epoch 9/100\n",
            "31/31 [==============================] - 26s 849ms/step - loss: 0.7137 - acc: 0.8034 - val_loss: 1.6125 - val_acc: 0.4062\n",
            "\n",
            "Epoch 00009: val_acc did not improve from 0.40625\n",
            "Epoch 10/100\n",
            "31/31 [==============================] - 26s 850ms/step - loss: 0.6887 - acc: 0.7984 - val_loss: 2.1470 - val_acc: 0.2188\n",
            "\n",
            "Epoch 00010: val_acc did not improve from 0.40625\n",
            "Epoch 11/100\n",
            "31/31 [==============================] - 26s 850ms/step - loss: 0.6243 - acc: 0.8266 - val_loss: 2.0430 - val_acc: 0.3125\n",
            "\n",
            "Epoch 00011: val_acc did not improve from 0.40625\n",
            "Epoch 12/100\n",
            "31/31 [==============================] - 26s 854ms/step - loss: 0.6179 - acc: 0.8246 - val_loss: 1.9148 - val_acc: 0.2500\n",
            "\n",
            "Epoch 00012: val_acc did not improve from 0.40625\n",
            "Epoch 13/100\n",
            "31/31 [==============================] - 27s 861ms/step - loss: 0.5800 - acc: 0.8347 - val_loss: 2.0870 - val_acc: 0.3750\n",
            "\n",
            "Epoch 00013: val_acc did not improve from 0.40625\n",
            "Epoch 14/100\n",
            "31/31 [==============================] - 27s 856ms/step - loss: 0.5634 - acc: 0.8417 - val_loss: 1.8217 - val_acc: 0.3125\n",
            "\n",
            "Epoch 00014: val_acc did not improve from 0.40625\n",
            "Epoch 15/100\n",
            "31/31 [==============================] - 26s 853ms/step - loss: 0.4933 - acc: 0.8488 - val_loss: 1.9873 - val_acc: 0.2188\n",
            "\n",
            "Epoch 00015: val_acc did not improve from 0.40625\n",
            "Epoch 16/100\n",
            "31/31 [==============================] - 26s 849ms/step - loss: 0.4615 - acc: 0.8750 - val_loss: 1.7904 - val_acc: 0.4375\n",
            "\n",
            "Epoch 00016: val_acc improved from 0.40625 to 0.43750, saving model to /content/drive/My Drive/cult_model.hdf5\n",
            "Epoch 17/100\n",
            "31/31 [==============================] - 26s 830ms/step - loss: 0.4910 - acc: 0.8456 - val_loss: 1.6268 - val_acc: 0.4375\n",
            "\n",
            "Epoch 00017: val_acc did not improve from 0.43750\n",
            "Epoch 18/100\n",
            "31/31 [==============================] - 26s 848ms/step - loss: 0.4653 - acc: 0.8669 - val_loss: 2.3230 - val_acc: 0.2812\n",
            "\n",
            "Epoch 00018: val_acc did not improve from 0.43750\n",
            "Epoch 19/100\n",
            "31/31 [==============================] - 26s 850ms/step - loss: 0.4006 - acc: 0.8911 - val_loss: 2.0437 - val_acc: 0.2500\n",
            "\n",
            "Epoch 00019: val_acc did not improve from 0.43750\n",
            "Epoch 20/100\n",
            "31/31 [==============================] - 26s 848ms/step - loss: 0.4310 - acc: 0.8770 - val_loss: 1.8405 - val_acc: 0.3750\n",
            "\n",
            "Epoch 00020: val_acc did not improve from 0.43750\n",
            "Epoch 21/100\n",
            "31/31 [==============================] - 26s 848ms/step - loss: 0.4395 - acc: 0.8700 - val_loss: 2.2436 - val_acc: 0.2812\n",
            "\n",
            "Epoch 00021: val_acc did not improve from 0.43750\n",
            "Epoch 22/100\n",
            "31/31 [==============================] - 26s 848ms/step - loss: 0.4121 - acc: 0.8740 - val_loss: 1.7271 - val_acc: 0.4375\n",
            "\n",
            "Epoch 00022: val_acc did not improve from 0.43750\n",
            "Epoch 23/100\n",
            "31/31 [==============================] - 26s 850ms/step - loss: 0.4005 - acc: 0.8901 - val_loss: 2.0739 - val_acc: 0.3750\n",
            "\n",
            "Epoch 00023: val_acc did not improve from 0.43750\n",
            "Epoch 24/100\n",
            "31/31 [==============================] - 26s 851ms/step - loss: 0.3647 - acc: 0.8881 - val_loss: 1.8255 - val_acc: 0.4375\n",
            "\n",
            "Epoch 00024: val_acc did not improve from 0.43750\n",
            "Epoch 25/100\n",
            "31/31 [==============================] - 26s 850ms/step - loss: 0.3787 - acc: 0.8891 - val_loss: 1.8199 - val_acc: 0.4375\n",
            "\n",
            "Epoch 00025: val_acc did not improve from 0.43750\n",
            "Epoch 26/100\n",
            "31/31 [==============================] - 26s 851ms/step - loss: 0.3357 - acc: 0.9002 - val_loss: 2.0819 - val_acc: 0.2812\n",
            "\n",
            "Epoch 00026: val_acc did not improve from 0.43750\n",
            "Epoch 27/100\n",
            "31/31 [==============================] - 26s 852ms/step - loss: 0.3182 - acc: 0.9103 - val_loss: 2.2176 - val_acc: 0.2812\n",
            "\n",
            "Epoch 00027: val_acc did not improve from 0.43750\n",
            "Epoch 28/100\n",
            "31/31 [==============================] - 27s 855ms/step - loss: 0.3088 - acc: 0.9183 - val_loss: 1.9996 - val_acc: 0.3750\n",
            "\n",
            "Epoch 00028: val_acc did not improve from 0.43750\n",
            "Epoch 29/100\n",
            "31/31 [==============================] - 27s 856ms/step - loss: 0.3135 - acc: 0.9163 - val_loss: 2.1852 - val_acc: 0.3438\n",
            "\n",
            "Epoch 00029: val_acc did not improve from 0.43750\n",
            "Epoch 30/100\n",
            "31/31 [==============================] - 27s 856ms/step - loss: 0.3105 - acc: 0.9083 - val_loss: 1.6828 - val_acc: 0.4688\n",
            "\n",
            "Epoch 00030: val_acc improved from 0.43750 to 0.46875, saving model to /content/drive/My Drive/cult_model.hdf5\n",
            "Epoch 31/100\n",
            "31/31 [==============================] - 27s 863ms/step - loss: 0.3077 - acc: 0.9224 - val_loss: 1.9741 - val_acc: 0.3750\n",
            "\n",
            "Epoch 00031: val_acc did not improve from 0.46875\n",
            "Epoch 32/100\n",
            "31/31 [==============================] - 27s 856ms/step - loss: 0.2918 - acc: 0.9052 - val_loss: 2.3005 - val_acc: 0.2812\n",
            "\n",
            "Epoch 00032: val_acc did not improve from 0.46875\n",
            "Epoch 33/100\n",
            "31/31 [==============================] - 26s 851ms/step - loss: 0.2644 - acc: 0.9254 - val_loss: 2.3277 - val_acc: 0.3750\n",
            "\n",
            "Epoch 00033: val_acc did not improve from 0.46875\n",
            "Epoch 34/100\n",
            "31/31 [==============================] - 26s 850ms/step - loss: 0.2825 - acc: 0.9234 - val_loss: 2.3653 - val_acc: 0.2812\n",
            "\n",
            "Epoch 00034: val_acc did not improve from 0.46875\n",
            "Epoch 35/100\n",
            "31/31 [==============================] - 26s 850ms/step - loss: 0.2734 - acc: 0.9224 - val_loss: 2.0368 - val_acc: 0.4375\n",
            "\n",
            "Epoch 00035: val_acc did not improve from 0.46875\n",
            "Epoch 36/100\n",
            "31/31 [==============================] - 26s 847ms/step - loss: 0.2814 - acc: 0.9173 - val_loss: 2.5873 - val_acc: 0.2812\n",
            "\n",
            "Epoch 00036: val_acc did not improve from 0.46875\n",
            "Epoch 37/100\n",
            "31/31 [==============================] - 26s 849ms/step - loss: 0.2900 - acc: 0.9103 - val_loss: 2.2650 - val_acc: 0.3438\n",
            "\n",
            "Epoch 00037: val_acc did not improve from 0.46875\n",
            "Epoch 38/100\n",
            "31/31 [==============================] - 26s 850ms/step - loss: 0.2736 - acc: 0.9103 - val_loss: 1.6496 - val_acc: 0.4375\n",
            "\n",
            "Epoch 00038: val_acc did not improve from 0.46875\n",
            "Epoch 39/100\n",
            "31/31 [==============================] - 26s 851ms/step - loss: 0.2793 - acc: 0.9123 - val_loss: 2.8526 - val_acc: 0.2188\n",
            "\n",
            "Epoch 00039: val_acc did not improve from 0.46875\n",
            "Epoch 40/100\n",
            "31/31 [==============================] - 27s 855ms/step - loss: 0.2548 - acc: 0.9274 - val_loss: 1.9245 - val_acc: 0.4062\n",
            "\n",
            "Epoch 00040: val_acc did not improve from 0.46875\n",
            "Epoch 41/100\n",
            "31/31 [==============================] - 27s 855ms/step - loss: 0.2378 - acc: 0.9254 - val_loss: 2.1761 - val_acc: 0.3750\n",
            "\n",
            "Epoch 00041: val_acc did not improve from 0.46875\n",
            "Epoch 42/100\n",
            "31/31 [==============================] - 27s 855ms/step - loss: 0.2029 - acc: 0.9345 - val_loss: 2.0032 - val_acc: 0.3750\n",
            "\n",
            "Epoch 00042: val_acc did not improve from 0.46875\n",
            "Epoch 43/100\n",
            "31/31 [==============================] - 27s 857ms/step - loss: 0.2157 - acc: 0.9446 - val_loss: 1.8191 - val_acc: 0.5312\n",
            "\n",
            "Epoch 00043: val_acc improved from 0.46875 to 0.53125, saving model to /content/drive/My Drive/cult_model.hdf5\n",
            "Epoch 44/100\n",
            "31/31 [==============================] - 27s 863ms/step - loss: 0.2568 - acc: 0.9173 - val_loss: 1.8486 - val_acc: 0.4062\n",
            "\n",
            "Epoch 00044: val_acc did not improve from 0.53125\n",
            "Epoch 45/100\n",
            "31/31 [==============================] - 27s 857ms/step - loss: 0.2241 - acc: 0.9365 - val_loss: 1.8875 - val_acc: 0.4688\n",
            "\n",
            "Epoch 00045: val_acc did not improve from 0.53125\n",
            "Epoch 46/100\n",
            "31/31 [==============================] - 27s 856ms/step - loss: 0.2194 - acc: 0.9405 - val_loss: 2.1556 - val_acc: 0.3750\n",
            "\n",
            "Epoch 00046: val_acc did not improve from 0.53125\n",
            "Epoch 47/100\n",
            "31/31 [==============================] - 26s 854ms/step - loss: 0.2004 - acc: 0.9385 - val_loss: 2.3135 - val_acc: 0.3750\n",
            "\n",
            "Epoch 00047: val_acc did not improve from 0.53125\n",
            "Epoch 48/100\n",
            "31/31 [==============================] - 26s 851ms/step - loss: 0.2333 - acc: 0.9405 - val_loss: 1.5268 - val_acc: 0.5000\n",
            "\n",
            "Epoch 00048: val_acc did not improve from 0.53125\n",
            "Epoch 49/100\n",
            "31/31 [==============================] - 26s 852ms/step - loss: 0.2132 - acc: 0.9405 - val_loss: 1.9070 - val_acc: 0.5000\n",
            "\n",
            "Epoch 00049: val_acc did not improve from 0.53125\n",
            "Epoch 50/100\n",
            "31/31 [==============================] - 26s 852ms/step - loss: 0.1854 - acc: 0.9425 - val_loss: 2.7580 - val_acc: 0.3438\n",
            "\n",
            "Epoch 00050: val_acc did not improve from 0.53125\n",
            "Epoch 51/100\n",
            "31/31 [==============================] - 26s 849ms/step - loss: 0.1940 - acc: 0.9466 - val_loss: 2.6318 - val_acc: 0.2812\n",
            "\n",
            "Epoch 00051: val_acc did not improve from 0.53125\n",
            "Epoch 52/100\n",
            "31/31 [==============================] - 26s 850ms/step - loss: 0.2030 - acc: 0.9375 - val_loss: 2.3249 - val_acc: 0.4062\n",
            "\n",
            "Epoch 00052: val_acc did not improve from 0.53125\n",
            "Epoch 53/100\n",
            "31/31 [==============================] - 26s 849ms/step - loss: 0.1855 - acc: 0.9546 - val_loss: 2.4357 - val_acc: 0.3438\n",
            "\n",
            "Epoch 00053: val_acc did not improve from 0.53125\n",
            "Epoch 54/100\n",
            "31/31 [==============================] - 26s 850ms/step - loss: 0.1993 - acc: 0.9375 - val_loss: 2.0547 - val_acc: 0.4062\n",
            "\n",
            "Epoch 00054: val_acc did not improve from 0.53125\n",
            "Epoch 55/100\n",
            "31/31 [==============================] - 26s 852ms/step - loss: 0.2016 - acc: 0.9325 - val_loss: 2.2949 - val_acc: 0.4062\n",
            "\n",
            "Epoch 00055: val_acc did not improve from 0.53125\n",
            "Epoch 56/100\n",
            "31/31 [==============================] - 26s 850ms/step - loss: 0.1877 - acc: 0.9496 - val_loss: 1.9696 - val_acc: 0.4375\n",
            "\n",
            "Epoch 00056: val_acc did not improve from 0.53125\n",
            "Epoch 57/100\n",
            "31/31 [==============================] - 26s 848ms/step - loss: 0.1637 - acc: 0.9567 - val_loss: 1.0719 - val_acc: 0.7188\n",
            "\n",
            "Epoch 00057: val_acc improved from 0.53125 to 0.71875, saving model to /content/drive/My Drive/cult_model.hdf5\n",
            "Epoch 58/100\n",
            "31/31 [==============================] - 26s 851ms/step - loss: 0.1768 - acc: 0.9435 - val_loss: 2.0257 - val_acc: 0.4062\n",
            "\n",
            "Epoch 00058: val_acc did not improve from 0.71875\n",
            "Epoch 59/100\n",
            "31/31 [==============================] - 27s 860ms/step - loss: 0.1717 - acc: 0.9476 - val_loss: 1.5655 - val_acc: 0.6562\n",
            "\n",
            "Epoch 00059: val_acc did not improve from 0.71875\n",
            "Epoch 60/100\n",
            "31/31 [==============================] - 27s 862ms/step - loss: 0.1877 - acc: 0.9415 - val_loss: 2.0849 - val_acc: 0.4062\n",
            "\n",
            "Epoch 00060: val_acc did not improve from 0.71875\n",
            "Epoch 61/100\n",
            "31/31 [==============================] - 27s 857ms/step - loss: 0.1855 - acc: 0.9365 - val_loss: 2.1887 - val_acc: 0.3125\n",
            "\n",
            "Epoch 00061: val_acc did not improve from 0.71875\n",
            "Epoch 62/100\n",
            "31/31 [==============================] - 26s 853ms/step - loss: 0.2009 - acc: 0.9395 - val_loss: 1.8982 - val_acc: 0.3438\n",
            "\n",
            "Epoch 00062: val_acc did not improve from 0.71875\n",
            "Epoch 63/100\n",
            "31/31 [==============================] - 26s 850ms/step - loss: 0.1463 - acc: 0.9556 - val_loss: 2.3746 - val_acc: 0.4375\n",
            "\n",
            "Epoch 00063: val_acc did not improve from 0.71875\n",
            "Epoch 64/100\n",
            "31/31 [==============================] - 26s 850ms/step - loss: 0.1642 - acc: 0.9536 - val_loss: 2.4013 - val_acc: 0.3438\n",
            "\n",
            "Epoch 00064: val_acc did not improve from 0.71875\n",
            "Epoch 65/100\n",
            "31/31 [==============================] - 26s 850ms/step - loss: 0.1516 - acc: 0.9577 - val_loss: 1.9631 - val_acc: 0.5625\n",
            "\n",
            "Epoch 00065: val_acc did not improve from 0.71875\n",
            "Epoch 66/100\n",
            "31/31 [==============================] - 26s 850ms/step - loss: 0.1744 - acc: 0.9506 - val_loss: 2.4781 - val_acc: 0.3438\n",
            "\n",
            "Epoch 00066: val_acc did not improve from 0.71875\n",
            "Epoch 67/100\n",
            "31/31 [==============================] - 26s 850ms/step - loss: 0.1534 - acc: 0.9556 - val_loss: 2.1707 - val_acc: 0.4688\n",
            "\n",
            "Epoch 00067: val_acc did not improve from 0.71875\n",
            "Epoch 68/100\n",
            "31/31 [==============================] - 26s 851ms/step - loss: 0.1640 - acc: 0.9415 - val_loss: 1.8293 - val_acc: 0.4688\n",
            "\n",
            "Epoch 00068: val_acc did not improve from 0.71875\n",
            "Epoch 69/100\n",
            "31/31 [==============================] - 26s 853ms/step - loss: 0.1713 - acc: 0.9456 - val_loss: 2.4750 - val_acc: 0.4375\n",
            "\n",
            "Epoch 00069: val_acc did not improve from 0.71875\n",
            "Epoch 70/100\n",
            "31/31 [==============================] - 27s 857ms/step - loss: 0.1692 - acc: 0.9546 - val_loss: 2.4391 - val_acc: 0.3125\n",
            "\n",
            "Epoch 00070: val_acc did not improve from 0.71875\n",
            "Epoch 71/100\n",
            "31/31 [==============================] - 27s 856ms/step - loss: 0.1595 - acc: 0.9435 - val_loss: 2.4760 - val_acc: 0.4062\n",
            "\n",
            "Epoch 00071: val_acc did not improve from 0.71875\n",
            "Epoch 72/100\n",
            "31/31 [==============================] - 27s 859ms/step - loss: 0.1419 - acc: 0.9607 - val_loss: 2.7476 - val_acc: 0.3125\n",
            "\n",
            "Epoch 00072: val_acc did not improve from 0.71875\n",
            "Epoch 73/100\n",
            "31/31 [==============================] - 27s 858ms/step - loss: 0.1524 - acc: 0.9506 - val_loss: 2.1075 - val_acc: 0.4375\n",
            "\n",
            "Epoch 00073: val_acc did not improve from 0.71875\n",
            "Epoch 74/100\n",
            "31/31 [==============================] - 27s 858ms/step - loss: 0.1604 - acc: 0.9536 - val_loss: 2.1605 - val_acc: 0.4062\n",
            "\n",
            "Epoch 00074: val_acc did not improve from 0.71875\n",
            "Epoch 75/100\n",
            "31/31 [==============================] - 26s 851ms/step - loss: 0.1312 - acc: 0.9587 - val_loss: 2.2271 - val_acc: 0.4375\n",
            "\n",
            "Epoch 00075: val_acc did not improve from 0.71875\n",
            "Epoch 76/100\n",
            "31/31 [==============================] - 26s 851ms/step - loss: 0.1408 - acc: 0.9567 - val_loss: 2.1830 - val_acc: 0.5312\n",
            "\n",
            "Epoch 00076: val_acc did not improve from 0.71875\n",
            "Epoch 77/100\n",
            "31/31 [==============================] - 26s 853ms/step - loss: 0.1444 - acc: 0.9546 - val_loss: 2.3005 - val_acc: 0.4375\n",
            "\n",
            "Epoch 00077: val_acc did not improve from 0.71875\n",
            "Epoch 78/100\n",
            "31/31 [==============================] - 26s 852ms/step - loss: 0.1336 - acc: 0.9546 - val_loss: 2.2758 - val_acc: 0.4062\n",
            "\n",
            "Epoch 00078: val_acc did not improve from 0.71875\n",
            "Epoch 79/100\n",
            "31/31 [==============================] - 26s 851ms/step - loss: 0.1235 - acc: 0.9617 - val_loss: 3.0044 - val_acc: 0.3125\n",
            "\n",
            "Epoch 00079: val_acc did not improve from 0.71875\n",
            "Epoch 80/100\n",
            "31/31 [==============================] - 26s 849ms/step - loss: 0.1208 - acc: 0.9647 - val_loss: 2.4776 - val_acc: 0.4062\n",
            "\n",
            "Epoch 00080: val_acc did not improve from 0.71875\n",
            "Epoch 81/100\n",
            "31/31 [==============================] - 26s 849ms/step - loss: 0.1228 - acc: 0.9607 - val_loss: 2.0290 - val_acc: 0.3750\n",
            "\n",
            "Epoch 00081: val_acc did not improve from 0.71875\n",
            "Epoch 82/100\n",
            "31/31 [==============================] - 26s 850ms/step - loss: 0.1409 - acc: 0.9556 - val_loss: 2.6174 - val_acc: 0.3438\n",
            "\n",
            "Epoch 00082: val_acc did not improve from 0.71875\n",
            "Epoch 83/100\n",
            "31/31 [==============================] - 26s 850ms/step - loss: 0.1375 - acc: 0.9617 - val_loss: 4.1044 - val_acc: 0.1562\n",
            "\n",
            "Epoch 00083: val_acc did not improve from 0.71875\n",
            "Epoch 84/100\n",
            "31/31 [==============================] - 26s 849ms/step - loss: 0.1312 - acc: 0.9627 - val_loss: 2.5817 - val_acc: 0.3125\n",
            "\n",
            "Epoch 00084: val_acc did not improve from 0.71875\n",
            "Epoch 85/100\n",
            "31/31 [==============================] - 26s 851ms/step - loss: 0.1598 - acc: 0.9476 - val_loss: 2.8712 - val_acc: 0.3438\n",
            "\n",
            "Epoch 00085: val_acc did not improve from 0.71875\n",
            "Epoch 86/100\n",
            "31/31 [==============================] - 26s 848ms/step - loss: 0.1348 - acc: 0.9587 - val_loss: 1.8507 - val_acc: 0.5938\n",
            "\n",
            "Epoch 00086: val_acc did not improve from 0.71875\n",
            "Epoch 87/100\n",
            "31/31 [==============================] - 26s 852ms/step - loss: 0.1351 - acc: 0.9516 - val_loss: 2.4836 - val_acc: 0.4375\n",
            "\n",
            "Epoch 00087: val_acc did not improve from 0.71875\n",
            "Epoch 88/100\n",
            "31/31 [==============================] - 27s 858ms/step - loss: 0.1518 - acc: 0.9476 - val_loss: 2.3129 - val_acc: 0.4375\n",
            "\n",
            "Epoch 00088: val_acc did not improve from 0.71875\n",
            "Epoch 89/100\n",
            "31/31 [==============================] - 27s 858ms/step - loss: 0.1154 - acc: 0.9667 - val_loss: 2.1990 - val_acc: 0.4688\n",
            "\n",
            "Epoch 00089: val_acc did not improve from 0.71875\n",
            "Epoch 90/100\n",
            "31/31 [==============================] - 26s 854ms/step - loss: 0.1248 - acc: 0.9617 - val_loss: 1.5832 - val_acc: 0.6250\n",
            "\n",
            "Epoch 00090: val_acc did not improve from 0.71875\n",
            "Epoch 91/100\n",
            "31/31 [==============================] - 26s 849ms/step - loss: 0.1287 - acc: 0.9627 - val_loss: 2.8468 - val_acc: 0.3438\n",
            "\n",
            "Epoch 00091: val_acc did not improve from 0.71875\n",
            "Epoch 92/100\n",
            "31/31 [==============================] - 26s 850ms/step - loss: 0.1108 - acc: 0.9647 - val_loss: 2.7019 - val_acc: 0.3438\n",
            "\n",
            "Epoch 00092: val_acc did not improve from 0.71875\n",
            "Epoch 93/100\n",
            "31/31 [==============================] - 26s 850ms/step - loss: 0.1383 - acc: 0.9567 - val_loss: 2.7887 - val_acc: 0.4062\n",
            "\n",
            "Epoch 00093: val_acc did not improve from 0.71875\n",
            "Epoch 94/100\n",
            "31/31 [==============================] - 26s 846ms/step - loss: 0.1341 - acc: 0.9607 - val_loss: 2.5627 - val_acc: 0.5000\n",
            "\n",
            "Epoch 00094: val_acc did not improve from 0.71875\n",
            "Epoch 95/100\n",
            "31/31 [==============================] - 26s 845ms/step - loss: 0.1133 - acc: 0.9738 - val_loss: 3.1483 - val_acc: 0.2812\n",
            "\n",
            "Epoch 00095: val_acc did not improve from 0.71875\n",
            "Epoch 96/100\n",
            "31/31 [==============================] - 26s 847ms/step - loss: 0.1290 - acc: 0.9546 - val_loss: 2.5955 - val_acc: 0.3750\n",
            "\n",
            "Epoch 00096: val_acc did not improve from 0.71875\n",
            "Epoch 97/100\n",
            "31/31 [==============================] - 26s 848ms/step - loss: 0.1151 - acc: 0.9677 - val_loss: 2.1688 - val_acc: 0.5000\n",
            "\n",
            "Epoch 00097: val_acc did not improve from 0.71875\n",
            "Epoch 98/100\n",
            "31/31 [==============================] - 26s 848ms/step - loss: 0.1280 - acc: 0.9597 - val_loss: 2.4794 - val_acc: 0.4375\n",
            "\n",
            "Epoch 00098: val_acc did not improve from 0.71875\n",
            "Epoch 99/100\n",
            "31/31 [==============================] - 26s 849ms/step - loss: 0.1315 - acc: 0.9536 - val_loss: 2.1666 - val_acc: 0.5000\n",
            "\n",
            "Epoch 00099: val_acc did not improve from 0.71875\n",
            "Epoch 100/100\n",
            "31/31 [==============================] - 26s 850ms/step - loss: 0.1005 - acc: 0.9688 - val_loss: 3.6812 - val_acc: 0.1562\n",
            "\n",
            "Epoch 00100: val_acc did not improve from 0.71875\n"
          ],
          "name": "stdout"
        },
        {
          "output_type": "execute_result",
          "data": {
            "text/plain": [
              "<keras.callbacks.History at 0x7f9fe5a44710>"
            ]
          },
          "metadata": {
            "tags": []
          },
          "execution_count": 92
        }
      ]
    },
    {
      "cell_type": "code",
      "metadata": {
        "id": "RhDSAEdaPW72",
        "colab_type": "code",
        "colab": {}
      },
      "source": [
        "# import the necessary packages\n",
        "from keras.models import load_model\n",
        "from collections import deque\n",
        "import numpy as np\n",
        "import cv2\n",
        "\n",
        "model = load_model(fileName)\n",
        "\n",
        "Q = deque(maxlen=10)\n",
        "\n",
        "# initialize the video stream, pointer to output video file, and\n",
        "# frame dimensions\n",
        "vs = cv2.VideoCapture()\n",
        "writer = None\n",
        "(W, H) = (None, None)\n",
        " \n",
        "# loop over frames from the video file stream\n",
        "while True:\n",
        "\t# read the next frame from the file\n",
        "\t(grabbed, frame) = vs.read()\n",
        " \n",
        "\t# if the frame was not grabbed, then we have reached the end\n",
        "\t# of the stream\n",
        "\tif not grabbed:\n",
        "\t\tbreak\n",
        " \n",
        "\t# if the frame dimensions are empty, grab them\n",
        "\tif W is None or H is None:\n",
        "\t\t(H, W) = frame.shape[:2]"
      ],
      "execution_count": 0,
      "outputs": []
    },
    {
      "cell_type": "code",
      "metadata": {
        "id": "SuFDIxOA2BQ0",
        "colab_type": "code",
        "colab": {}
      },
      "source": [
        "loss, acc = model.evaluate_generator(test_generator, steps=100, verbose=0)"
      ],
      "execution_count": 0,
      "outputs": []
    },
    {
      "cell_type": "code",
      "metadata": {
        "id": "gIMDPk4k9GVC",
        "colab_type": "code",
        "outputId": "17c5486e-dcf0-418c-b3e0-557a49da51d2",
        "colab": {
          "base_uri": "https://localhost:8080/",
          "height": 258
        }
      },
      "source": [
        "# memory footprint support libraries/code\n",
        "!ln -sf /opt/bin/nvidia-smi /usr/bin/nvidia-smi\n",
        "!pip install gputil\n",
        "!pip install psutil\n",
        "!pip install humanize\n",
        "\n",
        "import psutil\n",
        "import humanize\n",
        "import os\n",
        "import GPUtil as GPU\n",
        "GPUs = GPU.getGPUs()\n",
        "\n",
        "# XXX: only one GPU on Colab and isn’t guaranteed\n",
        "gpu = GPUs[0]\n",
        "def printm():\n",
        "  process = psutil.Process(os.getpid())\n",
        "  print(\"Gen RAM Free: \" + humanize.naturalsize( psutil.virtual_memory().available ), \" | Proc size: \" + humanize.naturalsize( process.memory_info().rss))\n",
        "  print(\"GPU RAM Free: {0:.0f}MB | Used: {1:.0f}MB | Util {2:3.0f}% | Total {3:.0f}MB\".format(gpu.memoryFree, gpu.memoryUsed, gpu.memoryUtil*100, gpu.memoryTotal))\n",
        "\n",
        "printm()"
      ],
      "execution_count": 0,
      "outputs": [
        {
          "output_type": "stream",
          "text": [
            "Collecting gputil\n",
            "  Downloading https://files.pythonhosted.org/packages/ed/0e/5c61eedde9f6c87713e89d794f01e378cfd9565847d4576fa627d758c554/GPUtil-1.4.0.tar.gz\n",
            "Building wheels for collected packages: gputil\n",
            "  Building wheel for gputil (setup.py) ... \u001b[?25l\u001b[?25hdone\n",
            "  Created wheel for gputil: filename=GPUtil-1.4.0-cp36-none-any.whl size=7410 sha256=68dcb84d83b014db1c20348c1b73245fabfb64ed58e92e25660dc8f921b6931a\n",
            "  Stored in directory: /root/.cache/pip/wheels/3d/77/07/80562de4bb0786e5ea186911a2c831fdd0018bda69beab71fd\n",
            "Successfully built gputil\n",
            "Installing collected packages: gputil\n",
            "Successfully installed gputil-1.4.0\n",
            "Requirement already satisfied: psutil in /usr/local/lib/python3.6/dist-packages (5.4.8)\n",
            "Requirement already satisfied: humanize in /usr/local/lib/python3.6/dist-packages (0.5.1)\n",
            "Gen RAM Free: 10.8 GB  | Proc size: 3.1 GB\n",
            "GPU RAM Free: 3021MB | Used: 8420MB | Util  74% | Total 11441MB\n"
          ],
          "name": "stdout"
        }
      ]
    },
    {
      "cell_type": "code",
      "metadata": {
        "id": "w598p8kqTVBM",
        "colab_type": "code",
        "colab": {}
      },
      "source": [
        "Inference"
      ],
      "execution_count": 0,
      "outputs": []
    },
    {
      "cell_type": "code",
      "metadata": {
        "id": "IowR7DtKOvyX",
        "colab_type": "code",
        "colab": {
          "base_uri": "https://localhost:8080/",
          "height": 54
        },
        "outputId": "b9a4c969-17e8-483e-c39c-51ac16076b3f"
      },
      "source": [
        "import cv2\n",
        "def most_frequent(List): \n",
        "    counter = 0\n",
        "    num = List[0] \n",
        "      \n",
        "    for i in List: \n",
        "        curr_frequency = List.count(i) \n",
        "        if(curr_frequency> counter): \n",
        "            counter = curr_frequency \n",
        "            num = i \n",
        "  \n",
        "    return num \n",
        "#all_images = [x for x in os.listdir(\"full_data/valid/extras/\") if \"extra_1\" in x]\n",
        "all_images = [x for x in os.listdir(\"GroupWorkoutVideo(0).m4v\")]\n",
        "\n",
        "import numpy as np\n",
        "preds = []\n",
        "for i in range(len(all_images)):\n",
        "  #image = cv2.imread(\"full_data/valid/extras/\"+all_images[i])\n",
        "  image = cv2.imread(\"GroupWorkoutVideo(0).m4v/\"+all_images[i])  \n",
        "  image = cv2.cvtColor(image, cv2.COLOR_BGR2RGB)\n",
        "  image = preprocess_input(image)\n",
        "  image = cv2.resize(image, (224, 224)).astype(\"float32\")\n",
        "  image = np.expand_dims(image, axis=0)\n",
        "  #print(val.shape)\n",
        "  pred = np.argmax(model.predict(image))\n",
        "  preds.append(pred)\n",
        "\n",
        "out = []\n",
        "for i in range(len(preds[10:])):\n",
        "  out.append(most_frequent(preds[i:i+10]))\n",
        "  #out.append(preds[i])\n",
        "print(out)  \n"
      ],
      "execution_count": 125,
      "outputs": [
        {
          "output_type": "stream",
          "text": [
            "[2, 2, 2, 2, 2, 2, 2, 2, 2, 2, 2, 2, 2, 2, 2, 2, 2, 2, 2, 2, 2, 2, 2, 2, 2, 2, 2, 2, 2, 2, 1, 1, 1, 2, 2, 2, 2, 2, 2, 2, 2, 2, 2, 2, 2, 2, 2, 2, 2, 2, 2, 2, 2, 2, 2, 2, 2, 2, 2, 2, 2, 2, 2, 2, 2, 2, 2, 2, 2, 2, 2, 2, 2, 2, 2, 2, 2, 2, 2, 2, 2, 2, 2, 2, 2, 2, 2, 2, 2, 2, 2, 2, 2, 2, 2, 1, 2, 2, 2, 2, 2, 2, 2, 2, 2, 2, 2, 2, 2, 2, 2, 2, 2, 2, 2, 2, 2, 2, 2, 2, 2, 2, 2, 2, 2, 2, 1, 2, 2, 2, 2, 2, 2, 2, 2, 2, 2, 2, 2, 2, 2, 2, 2, 2]\n"
          ],
          "name": "stdout"
        }
      ]
    },
    {
      "cell_type": "code",
      "metadata": {
        "id": "ZwC-r-6KluWH",
        "colab_type": "code",
        "colab": {
          "base_uri": "https://localhost:8080/",
          "height": 34
        },
        "outputId": "73847f1e-77f9-43a3-904d-f65aea227ab7"
      },
      "source": [
        "from collections import Counter\n",
        "a = Counter(out)\n",
        "actions = []\n",
        "for key in a:\n",
        "  if a[key] > 20:\n",
        "    actions.append(key)\n",
        "for key in train_generator.class_indices:\n",
        "  if train_generator.class_indices[key] in actions:\n",
        "    print(key)"
      ],
      "execution_count": 132,
      "outputs": [
        {
          "output_type": "stream",
          "text": [
            "jj\n"
          ],
          "name": "stdout"
        }
      ]
    },
    {
      "cell_type": "code",
      "metadata": {
        "id": "Dpe99JC5dBUT",
        "colab_type": "code",
        "colab": {
          "base_uri": "https://localhost:8080/",
          "height": 1000
        },
        "outputId": "60af2150-f0e2-4525-dd45-9e9639e42d84"
      },
      "source": [
        "!ls full_data/valid/squats"
      ],
      "execution_count": 111,
      "outputs": [
        {
          "output_type": "stream",
          "text": [
            "squat2_1_frame0.jpg\t   squat2_1_frame380000.jpg   squat2_1_frame6620000.jpg\n",
            "squat2_1_frame1000000.jpg  squat2_1_frame3810000.jpg  squat2_1_frame6630000.jpg\n",
            "squat2_1_frame100000.jpg   squat2_1_frame3820000.jpg  squat2_1_frame6640000.jpg\n",
            "squat2_1_frame10000.jpg    squat2_1_frame3830000.jpg  squat2_1_frame6650000.jpg\n",
            "squat2_1_frame1010000.jpg  squat2_1_frame3840000.jpg  squat2_1_frame6660000.jpg\n",
            "squat2_1_frame1020000.jpg  squat2_1_frame3850000.jpg  squat2_1_frame6670000.jpg\n",
            "squat2_1_frame1030000.jpg  squat2_1_frame3860000.jpg  squat2_1_frame6680000.jpg\n",
            "squat2_1_frame1040000.jpg  squat2_1_frame3870000.jpg  squat2_1_frame6690000.jpg\n",
            "squat2_1_frame1050000.jpg  squat2_1_frame3880000.jpg  squat2_1_frame6700000.jpg\n",
            "squat2_1_frame1060000.jpg  squat2_1_frame3890000.jpg  squat2_1_frame670000.jpg\n",
            "squat2_1_frame1070000.jpg  squat2_1_frame3900000.jpg  squat2_1_frame6710000.jpg\n",
            "squat2_1_frame1080000.jpg  squat2_1_frame390000.jpg   squat2_1_frame6720000.jpg\n",
            "squat2_1_frame1090000.jpg  squat2_1_frame3910000.jpg  squat2_1_frame6730000.jpg\n",
            "squat2_1_frame1100000.jpg  squat2_1_frame3920000.jpg  squat2_1_frame6740000.jpg\n",
            "squat2_1_frame110000.jpg   squat2_1_frame3930000.jpg  squat2_1_frame6750000.jpg\n",
            "squat2_1_frame1110000.jpg  squat2_1_frame3940000.jpg  squat2_1_frame6760000.jpg\n",
            "squat2_1_frame1120000.jpg  squat2_1_frame3950000.jpg  squat2_1_frame6770000.jpg\n",
            "squat2_1_frame1130000.jpg  squat2_1_frame3960000.jpg  squat2_1_frame6780000.jpg\n",
            "squat2_1_frame1140000.jpg  squat2_1_frame3970000.jpg  squat2_1_frame6790000.jpg\n",
            "squat2_1_frame1150000.jpg  squat2_1_frame3980000.jpg  squat2_1_frame6800000.jpg\n",
            "squat2_1_frame1160000.jpg  squat2_1_frame3990000.jpg  squat2_1_frame680000.jpg\n",
            "squat2_1_frame1170000.jpg  squat2_1_frame4000000.jpg  squat2_1_frame6810000.jpg\n",
            "squat2_1_frame1180000.jpg  squat2_1_frame400000.jpg   squat2_1_frame6820000.jpg\n",
            "squat2_1_frame1190000.jpg  squat2_1_frame40000.jpg    squat2_1_frame6830000.jpg\n",
            "squat2_1_frame1200000.jpg  squat2_1_frame4010000.jpg  squat2_1_frame6840000.jpg\n",
            "squat2_1_frame120000.jpg   squat2_1_frame4020000.jpg  squat2_1_frame6850000.jpg\n",
            "squat2_1_frame1210000.jpg  squat2_1_frame4030000.jpg  squat2_1_frame6860000.jpg\n",
            "squat2_1_frame1220000.jpg  squat2_1_frame4040000.jpg  squat2_1_frame6870000.jpg\n",
            "squat2_1_frame1230000.jpg  squat2_1_frame4050000.jpg  squat2_1_frame6880000.jpg\n",
            "squat2_1_frame1240000.jpg  squat2_1_frame4060000.jpg  squat2_1_frame6890000.jpg\n",
            "squat2_1_frame1250000.jpg  squat2_1_frame4070000.jpg  squat2_1_frame6900000.jpg\n",
            "squat2_1_frame1260000.jpg  squat2_1_frame4080000.jpg  squat2_1_frame690000.jpg\n",
            "squat2_1_frame1270000.jpg  squat2_1_frame4090000.jpg  squat2_1_frame6910000.jpg\n",
            "squat2_1_frame1280000.jpg  squat2_1_frame4100000.jpg  squat2_1_frame6920000.jpg\n",
            "squat2_1_frame1290000.jpg  squat2_1_frame410000.jpg   squat2_1_frame6930000.jpg\n",
            "squat2_1_frame1300000.jpg  squat2_1_frame4110000.jpg  squat2_1_frame6940000.jpg\n",
            "squat2_1_frame130000.jpg   squat2_1_frame4120000.jpg  squat2_1_frame6950000.jpg\n",
            "squat2_1_frame1310000.jpg  squat2_1_frame4130000.jpg  squat2_1_frame6960000.jpg\n",
            "squat2_1_frame1320000.jpg  squat2_1_frame4140000.jpg  squat2_1_frame6970000.jpg\n",
            "squat2_1_frame1330000.jpg  squat2_1_frame4150000.jpg  squat2_1_frame6980000.jpg\n",
            "squat2_1_frame1340000.jpg  squat2_1_frame4160000.jpg  squat2_1_frame6990000.jpg\n",
            "squat2_1_frame1350000.jpg  squat2_1_frame4170000.jpg  squat2_1_frame7000000.jpg\n",
            "squat2_1_frame1360000.jpg  squat2_1_frame4180000.jpg  squat2_1_frame700000.jpg\n",
            "squat2_1_frame1370000.jpg  squat2_1_frame4190000.jpg  squat2_1_frame70000.jpg\n",
            "squat2_1_frame1380000.jpg  squat2_1_frame4200000.jpg  squat2_1_frame7010000.jpg\n",
            "squat2_1_frame1390000.jpg  squat2_1_frame420000.jpg   squat2_1_frame7020000.jpg\n",
            "squat2_1_frame1400000.jpg  squat2_1_frame4210000.jpg  squat2_1_frame7030000.jpg\n",
            "squat2_1_frame140000.jpg   squat2_1_frame4220000.jpg  squat2_1_frame7040000.jpg\n",
            "squat2_1_frame1410000.jpg  squat2_1_frame4230000.jpg  squat2_1_frame7050000.jpg\n",
            "squat2_1_frame1420000.jpg  squat2_1_frame4240000.jpg  squat2_1_frame7060000.jpg\n",
            "squat2_1_frame1430000.jpg  squat2_1_frame4250000.jpg  squat2_1_frame7070000.jpg\n",
            "squat2_1_frame1440000.jpg  squat2_1_frame4260000.jpg  squat2_1_frame7080000.jpg\n",
            "squat2_1_frame1450000.jpg  squat2_1_frame4270000.jpg  squat2_1_frame7090000.jpg\n",
            "squat2_1_frame1460000.jpg  squat2_1_frame4280000.jpg  squat2_1_frame7100000.jpg\n",
            "squat2_1_frame1470000.jpg  squat2_1_frame4290000.jpg  squat2_1_frame710000.jpg\n",
            "squat2_1_frame1480000.jpg  squat2_1_frame4300000.jpg  squat2_1_frame7110000.jpg\n",
            "squat2_1_frame1490000.jpg  squat2_1_frame430000.jpg   squat2_1_frame7120000.jpg\n",
            "squat2_1_frame1500000.jpg  squat2_1_frame4310000.jpg  squat2_1_frame7130000.jpg\n",
            "squat2_1_frame150000.jpg   squat2_1_frame4320000.jpg  squat2_1_frame7140000.jpg\n",
            "squat2_1_frame1510000.jpg  squat2_1_frame4330000.jpg  squat2_1_frame7150000.jpg\n",
            "squat2_1_frame1520000.jpg  squat2_1_frame4340000.jpg  squat2_1_frame7160000.jpg\n",
            "squat2_1_frame1530000.jpg  squat2_1_frame4350000.jpg  squat2_1_frame7170000.jpg\n",
            "squat2_1_frame1540000.jpg  squat2_1_frame4360000.jpg  squat2_1_frame7180000.jpg\n",
            "squat2_1_frame1550000.jpg  squat2_1_frame4370000.jpg  squat2_1_frame7190000.jpg\n",
            "squat2_1_frame1560000.jpg  squat2_1_frame4380000.jpg  squat2_1_frame7200000.jpg\n",
            "squat2_1_frame1570000.jpg  squat2_1_frame4390000.jpg  squat2_1_frame720000.jpg\n",
            "squat2_1_frame1580000.jpg  squat2_1_frame4400000.jpg  squat2_1_frame7210000.jpg\n",
            "squat2_1_frame1590000.jpg  squat2_1_frame440000.jpg   squat2_1_frame7220000.jpg\n",
            "squat2_1_frame1600000.jpg  squat2_1_frame4410000.jpg  squat2_1_frame7230000.jpg\n",
            "squat2_1_frame160000.jpg   squat2_1_frame4420000.jpg  squat2_1_frame7240000.jpg\n",
            "squat2_1_frame1610000.jpg  squat2_1_frame4430000.jpg  squat2_1_frame7250000.jpg\n",
            "squat2_1_frame1620000.jpg  squat2_1_frame4440000.jpg  squat2_1_frame7260000.jpg\n",
            "squat2_1_frame1630000.jpg  squat2_1_frame4450000.jpg  squat2_1_frame7270000.jpg\n",
            "squat2_1_frame1640000.jpg  squat2_1_frame4460000.jpg  squat2_1_frame7280000.jpg\n",
            "squat2_1_frame1650000.jpg  squat2_1_frame4470000.jpg  squat2_1_frame7290000.jpg\n",
            "squat2_1_frame1660000.jpg  squat2_1_frame4480000.jpg  squat2_1_frame7300000.jpg\n",
            "squat2_1_frame1670000.jpg  squat2_1_frame4490000.jpg  squat2_1_frame730000.jpg\n",
            "squat2_1_frame1680000.jpg  squat2_1_frame4500000.jpg  squat2_1_frame7310000.jpg\n",
            "squat2_1_frame1690000.jpg  squat2_1_frame450000.jpg   squat2_1_frame7320000.jpg\n",
            "squat2_1_frame1700000.jpg  squat2_1_frame4510000.jpg  squat2_1_frame7330000.jpg\n",
            "squat2_1_frame170000.jpg   squat2_1_frame4520000.jpg  squat2_1_frame7340000.jpg\n",
            "squat2_1_frame1710000.jpg  squat2_1_frame4530000.jpg  squat2_1_frame7350000.jpg\n",
            "squat2_1_frame1720000.jpg  squat2_1_frame4540000.jpg  squat2_1_frame7360000.jpg\n",
            "squat2_1_frame1730000.jpg  squat2_1_frame4550000.jpg  squat2_1_frame7370000.jpg\n",
            "squat2_1_frame1740000.jpg  squat2_1_frame4560000.jpg  squat2_1_frame7380000.jpg\n",
            "squat2_1_frame1750000.jpg  squat2_1_frame4570000.jpg  squat2_1_frame7390000.jpg\n",
            "squat2_1_frame1760000.jpg  squat2_1_frame4580000.jpg  squat2_1_frame7400000.jpg\n",
            "squat2_1_frame1770000.jpg  squat2_1_frame4590000.jpg  squat2_1_frame740000.jpg\n",
            "squat2_1_frame1780000.jpg  squat2_1_frame4600000.jpg  squat2_1_frame7410000.jpg\n",
            "squat2_1_frame1790000.jpg  squat2_1_frame460000.jpg   squat2_1_frame7420000.jpg\n",
            "squat2_1_frame1800000.jpg  squat2_1_frame4610000.jpg  squat2_1_frame7430000.jpg\n",
            "squat2_1_frame180000.jpg   squat2_1_frame4620000.jpg  squat2_1_frame7440000.jpg\n",
            "squat2_1_frame1810000.jpg  squat2_1_frame4630000.jpg  squat2_1_frame7450000.jpg\n",
            "squat2_1_frame1820000.jpg  squat2_1_frame4640000.jpg  squat2_1_frame7460000.jpg\n",
            "squat2_1_frame1830000.jpg  squat2_1_frame4650000.jpg  squat2_1_frame7470000.jpg\n",
            "squat2_1_frame1840000.jpg  squat2_1_frame4660000.jpg  squat2_1_frame7480000.jpg\n",
            "squat2_1_frame1850000.jpg  squat2_1_frame4670000.jpg  squat2_1_frame7490000.jpg\n",
            "squat2_1_frame1860000.jpg  squat2_1_frame4680000.jpg  squat2_1_frame7500000.jpg\n",
            "squat2_1_frame1870000.jpg  squat2_1_frame4690000.jpg  squat2_1_frame750000.jpg\n",
            "squat2_1_frame1880000.jpg  squat2_1_frame4700000.jpg  squat2_1_frame7510000.jpg\n",
            "squat2_1_frame1890000.jpg  squat2_1_frame470000.jpg   squat2_1_frame7520000.jpg\n",
            "squat2_1_frame1900000.jpg  squat2_1_frame4710000.jpg  squat2_1_frame7530000.jpg\n",
            "squat2_1_frame190000.jpg   squat2_1_frame4720000.jpg  squat2_1_frame7540000.jpg\n",
            "squat2_1_frame1910000.jpg  squat2_1_frame4730000.jpg  squat2_1_frame7550000.jpg\n",
            "squat2_1_frame1920000.jpg  squat2_1_frame4740000.jpg  squat2_1_frame7560000.jpg\n",
            "squat2_1_frame1930000.jpg  squat2_1_frame4750000.jpg  squat2_1_frame7570000.jpg\n",
            "squat2_1_frame1940000.jpg  squat2_1_frame4760000.jpg  squat2_1_frame7580000.jpg\n",
            "squat2_1_frame1950000.jpg  squat2_1_frame4770000.jpg  squat2_1_frame7590000.jpg\n",
            "squat2_1_frame1960000.jpg  squat2_1_frame4780000.jpg  squat2_1_frame7600000.jpg\n",
            "squat2_1_frame1970000.jpg  squat2_1_frame4790000.jpg  squat2_1_frame760000.jpg\n",
            "squat2_1_frame1980000.jpg  squat2_1_frame4800000.jpg  squat2_1_frame7610000.jpg\n",
            "squat2_1_frame1990000.jpg  squat2_1_frame480000.jpg   squat2_1_frame7620000.jpg\n",
            "squat2_1_frame2000000.jpg  squat2_1_frame4810000.jpg  squat2_1_frame7630000.jpg\n",
            "squat2_1_frame200000.jpg   squat2_1_frame4820000.jpg  squat2_1_frame7640000.jpg\n",
            "squat2_1_frame20000.jpg    squat2_1_frame4830000.jpg  squat2_1_frame7650000.jpg\n",
            "squat2_1_frame2010000.jpg  squat2_1_frame4840000.jpg  squat2_1_frame7660000.jpg\n",
            "squat2_1_frame2020000.jpg  squat2_1_frame4850000.jpg  squat2_1_frame7670000.jpg\n",
            "squat2_1_frame2030000.jpg  squat2_1_frame4860000.jpg  squat2_1_frame7680000.jpg\n",
            "squat2_1_frame2040000.jpg  squat2_1_frame4870000.jpg  squat2_1_frame7690000.jpg\n",
            "squat2_1_frame2050000.jpg  squat2_1_frame4880000.jpg  squat2_1_frame7700000.jpg\n",
            "squat2_1_frame2060000.jpg  squat2_1_frame4890000.jpg  squat2_1_frame770000.jpg\n",
            "squat2_1_frame2070000.jpg  squat2_1_frame4900000.jpg  squat2_1_frame7710000.jpg\n",
            "squat2_1_frame2080000.jpg  squat2_1_frame490000.jpg   squat2_1_frame7720000.jpg\n",
            "squat2_1_frame2090000.jpg  squat2_1_frame4910000.jpg  squat2_1_frame7730000.jpg\n",
            "squat2_1_frame2100000.jpg  squat2_1_frame4920000.jpg  squat2_1_frame7740000.jpg\n",
            "squat2_1_frame210000.jpg   squat2_1_frame4930000.jpg  squat2_1_frame7750000.jpg\n",
            "squat2_1_frame2110000.jpg  squat2_1_frame4940000.jpg  squat2_1_frame7760000.jpg\n",
            "squat2_1_frame2120000.jpg  squat2_1_frame4950000.jpg  squat2_1_frame7770000.jpg\n",
            "squat2_1_frame2130000.jpg  squat2_1_frame4960000.jpg  squat2_1_frame7780000.jpg\n",
            "squat2_1_frame2140000.jpg  squat2_1_frame4970000.jpg  squat2_1_frame7790000.jpg\n",
            "squat2_1_frame2150000.jpg  squat2_1_frame4980000.jpg  squat2_1_frame7800000.jpg\n",
            "squat2_1_frame2160000.jpg  squat2_1_frame4990000.jpg  squat2_1_frame780000.jpg\n",
            "squat2_1_frame2170000.jpg  squat2_1_frame5000000.jpg  squat2_1_frame7810000.jpg\n",
            "squat2_1_frame2180000.jpg  squat2_1_frame500000.jpg   squat2_1_frame7820000.jpg\n",
            "squat2_1_frame2190000.jpg  squat2_1_frame50000.jpg    squat2_1_frame7830000.jpg\n",
            "squat2_1_frame2200000.jpg  squat2_1_frame5010000.jpg  squat2_1_frame7840000.jpg\n",
            "squat2_1_frame220000.jpg   squat2_1_frame5020000.jpg  squat2_1_frame7850000.jpg\n",
            "squat2_1_frame2210000.jpg  squat2_1_frame5030000.jpg  squat2_1_frame7860000.jpg\n",
            "squat2_1_frame2220000.jpg  squat2_1_frame5040000.jpg  squat2_1_frame7870000.jpg\n",
            "squat2_1_frame2230000.jpg  squat2_1_frame5050000.jpg  squat2_1_frame7880000.jpg\n",
            "squat2_1_frame2240000.jpg  squat2_1_frame5060000.jpg  squat2_1_frame7890000.jpg\n",
            "squat2_1_frame2250000.jpg  squat2_1_frame5070000.jpg  squat2_1_frame7900000.jpg\n",
            "squat2_1_frame2260000.jpg  squat2_1_frame5080000.jpg  squat2_1_frame790000.jpg\n",
            "squat2_1_frame2270000.jpg  squat2_1_frame5090000.jpg  squat2_1_frame7910000.jpg\n",
            "squat2_1_frame2280000.jpg  squat2_1_frame5100000.jpg  squat2_1_frame7920000.jpg\n",
            "squat2_1_frame2290000.jpg  squat2_1_frame510000.jpg   squat2_1_frame7930000.jpg\n",
            "squat2_1_frame2300000.jpg  squat2_1_frame5110000.jpg  squat2_1_frame7940000.jpg\n",
            "squat2_1_frame230000.jpg   squat2_1_frame5120000.jpg  squat2_1_frame7950000.jpg\n",
            "squat2_1_frame2310000.jpg  squat2_1_frame5130000.jpg  squat2_1_frame7960000.jpg\n",
            "squat2_1_frame2320000.jpg  squat2_1_frame5140000.jpg  squat2_1_frame7970000.jpg\n",
            "squat2_1_frame2330000.jpg  squat2_1_frame5150000.jpg  squat2_1_frame7980000.jpg\n",
            "squat2_1_frame2340000.jpg  squat2_1_frame5160000.jpg  squat2_1_frame7990000.jpg\n",
            "squat2_1_frame2350000.jpg  squat2_1_frame5170000.jpg  squat2_1_frame8000000.jpg\n",
            "squat2_1_frame2360000.jpg  squat2_1_frame5180000.jpg  squat2_1_frame800000.jpg\n",
            "squat2_1_frame2370000.jpg  squat2_1_frame5190000.jpg  squat2_1_frame80000.jpg\n",
            "squat2_1_frame2380000.jpg  squat2_1_frame5200000.jpg  squat2_1_frame8010000.jpg\n",
            "squat2_1_frame2390000.jpg  squat2_1_frame520000.jpg   squat2_1_frame8020000.jpg\n",
            "squat2_1_frame2400000.jpg  squat2_1_frame5210000.jpg  squat2_1_frame8030000.jpg\n",
            "squat2_1_frame240000.jpg   squat2_1_frame5220000.jpg  squat2_1_frame8040000.jpg\n",
            "squat2_1_frame2410000.jpg  squat2_1_frame5230000.jpg  squat2_1_frame8050000.jpg\n",
            "squat2_1_frame2420000.jpg  squat2_1_frame5240000.jpg  squat2_1_frame8060000.jpg\n",
            "squat2_1_frame2430000.jpg  squat2_1_frame5250000.jpg  squat2_1_frame8070000.jpg\n",
            "squat2_1_frame2440000.jpg  squat2_1_frame5260000.jpg  squat2_1_frame8080000.jpg\n",
            "squat2_1_frame2450000.jpg  squat2_1_frame5270000.jpg  squat2_1_frame8090000.jpg\n",
            "squat2_1_frame2460000.jpg  squat2_1_frame5280000.jpg  squat2_1_frame8100000.jpg\n",
            "squat2_1_frame2470000.jpg  squat2_1_frame5290000.jpg  squat2_1_frame810000.jpg\n",
            "squat2_1_frame2480000.jpg  squat2_1_frame5300000.jpg  squat2_1_frame8110000.jpg\n",
            "squat2_1_frame2490000.jpg  squat2_1_frame530000.jpg   squat2_1_frame8120000.jpg\n",
            "squat2_1_frame2500000.jpg  squat2_1_frame5310000.jpg  squat2_1_frame8130000.jpg\n",
            "squat2_1_frame250000.jpg   squat2_1_frame5320000.jpg  squat2_1_frame8140000.jpg\n",
            "squat2_1_frame2510000.jpg  squat2_1_frame5330000.jpg  squat2_1_frame8150000.jpg\n",
            "squat2_1_frame2520000.jpg  squat2_1_frame5340000.jpg  squat2_1_frame8160000.jpg\n",
            "squat2_1_frame2530000.jpg  squat2_1_frame5350000.jpg  squat2_1_frame8170000.jpg\n",
            "squat2_1_frame2540000.jpg  squat2_1_frame5360000.jpg  squat2_1_frame8180000.jpg\n",
            "squat2_1_frame2550000.jpg  squat2_1_frame5370000.jpg  squat2_1_frame8190000.jpg\n",
            "squat2_1_frame2560000.jpg  squat2_1_frame5380000.jpg  squat2_1_frame8200000.jpg\n",
            "squat2_1_frame2570000.jpg  squat2_1_frame5390000.jpg  squat2_1_frame820000.jpg\n",
            "squat2_1_frame2580000.jpg  squat2_1_frame5400000.jpg  squat2_1_frame8210000.jpg\n",
            "squat2_1_frame2590000.jpg  squat2_1_frame540000.jpg   squat2_1_frame8220000.jpg\n",
            "squat2_1_frame2600000.jpg  squat2_1_frame5410000.jpg  squat2_1_frame8230000.jpg\n",
            "squat2_1_frame260000.jpg   squat2_1_frame5420000.jpg  squat2_1_frame8240000.jpg\n",
            "squat2_1_frame2610000.jpg  squat2_1_frame5430000.jpg  squat2_1_frame8250000.jpg\n",
            "squat2_1_frame2620000.jpg  squat2_1_frame5440000.jpg  squat2_1_frame8260000.jpg\n",
            "squat2_1_frame2630000.jpg  squat2_1_frame5450000.jpg  squat2_1_frame8270000.jpg\n",
            "squat2_1_frame2640000.jpg  squat2_1_frame5460000.jpg  squat2_1_frame8280000.jpg\n",
            "squat2_1_frame2650000.jpg  squat2_1_frame5470000.jpg  squat2_1_frame8290000.jpg\n",
            "squat2_1_frame2660000.jpg  squat2_1_frame5480000.jpg  squat2_1_frame8300000.jpg\n",
            "squat2_1_frame2670000.jpg  squat2_1_frame5490000.jpg  squat2_1_frame830000.jpg\n",
            "squat2_1_frame2680000.jpg  squat2_1_frame5500000.jpg  squat2_1_frame8310000.jpg\n",
            "squat2_1_frame2690000.jpg  squat2_1_frame550000.jpg   squat2_1_frame8320000.jpg\n",
            "squat2_1_frame2700000.jpg  squat2_1_frame5510000.jpg  squat2_1_frame8330000.jpg\n",
            "squat2_1_frame270000.jpg   squat2_1_frame5520000.jpg  squat2_1_frame8340000.jpg\n",
            "squat2_1_frame2710000.jpg  squat2_1_frame5530000.jpg  squat2_1_frame8350000.jpg\n",
            "squat2_1_frame2720000.jpg  squat2_1_frame5540000.jpg  squat2_1_frame8360000.jpg\n",
            "squat2_1_frame2730000.jpg  squat2_1_frame5550000.jpg  squat2_1_frame8370000.jpg\n",
            "squat2_1_frame2740000.jpg  squat2_1_frame5560000.jpg  squat2_1_frame8380000.jpg\n",
            "squat2_1_frame2750000.jpg  squat2_1_frame5570000.jpg  squat2_1_frame8390000.jpg\n",
            "squat2_1_frame2760000.jpg  squat2_1_frame5580000.jpg  squat2_1_frame8400000.jpg\n",
            "squat2_1_frame2770000.jpg  squat2_1_frame5590000.jpg  squat2_1_frame840000.jpg\n",
            "squat2_1_frame2780000.jpg  squat2_1_frame5600000.jpg  squat2_1_frame8410000.jpg\n",
            "squat2_1_frame2790000.jpg  squat2_1_frame560000.jpg   squat2_1_frame8420000.jpg\n",
            "squat2_1_frame2800000.jpg  squat2_1_frame5610000.jpg  squat2_1_frame8430000.jpg\n",
            "squat2_1_frame280000.jpg   squat2_1_frame5620000.jpg  squat2_1_frame8440000.jpg\n",
            "squat2_1_frame2810000.jpg  squat2_1_frame5630000.jpg  squat2_1_frame8450000.jpg\n",
            "squat2_1_frame2820000.jpg  squat2_1_frame5640000.jpg  squat2_1_frame8460000.jpg\n",
            "squat2_1_frame2830000.jpg  squat2_1_frame5650000.jpg  squat2_1_frame8470000.jpg\n",
            "squat2_1_frame2840000.jpg  squat2_1_frame5660000.jpg  squat2_1_frame8480000.jpg\n",
            "squat2_1_frame2850000.jpg  squat2_1_frame5670000.jpg  squat2_1_frame8490000.jpg\n",
            "squat2_1_frame2860000.jpg  squat2_1_frame5680000.jpg  squat2_1_frame8500000.jpg\n",
            "squat2_1_frame2870000.jpg  squat2_1_frame5690000.jpg  squat2_1_frame850000.jpg\n",
            "squat2_1_frame2880000.jpg  squat2_1_frame5700000.jpg  squat2_1_frame8510000.jpg\n",
            "squat2_1_frame2890000.jpg  squat2_1_frame570000.jpg   squat2_1_frame8520000.jpg\n",
            "squat2_1_frame2900000.jpg  squat2_1_frame5710000.jpg  squat2_1_frame8530000.jpg\n",
            "squat2_1_frame290000.jpg   squat2_1_frame5720000.jpg  squat2_1_frame8540000.jpg\n",
            "squat2_1_frame2910000.jpg  squat2_1_frame5730000.jpg  squat2_1_frame8550000.jpg\n",
            "squat2_1_frame2920000.jpg  squat2_1_frame5740000.jpg  squat2_1_frame8560000.jpg\n",
            "squat2_1_frame2930000.jpg  squat2_1_frame5750000.jpg  squat2_1_frame8570000.jpg\n",
            "squat2_1_frame2940000.jpg  squat2_1_frame5760000.jpg  squat2_1_frame8580000.jpg\n",
            "squat2_1_frame2950000.jpg  squat2_1_frame5770000.jpg  squat2_1_frame8590000.jpg\n",
            "squat2_1_frame2960000.jpg  squat2_1_frame5780000.jpg  squat2_1_frame8600000.jpg\n",
            "squat2_1_frame2970000.jpg  squat2_1_frame5790000.jpg  squat2_1_frame860000.jpg\n",
            "squat2_1_frame2980000.jpg  squat2_1_frame5800000.jpg  squat2_1_frame8610000.jpg\n",
            "squat2_1_frame2990000.jpg  squat2_1_frame580000.jpg   squat2_1_frame8620000.jpg\n",
            "squat2_1_frame3000000.jpg  squat2_1_frame5810000.jpg  squat2_1_frame8630000.jpg\n",
            "squat2_1_frame300000.jpg   squat2_1_frame5820000.jpg  squat2_1_frame8640000.jpg\n",
            "squat2_1_frame30000.jpg    squat2_1_frame5830000.jpg  squat2_1_frame8650000.jpg\n",
            "squat2_1_frame3010000.jpg  squat2_1_frame5840000.jpg  squat2_1_frame8660000.jpg\n",
            "squat2_1_frame3020000.jpg  squat2_1_frame5850000.jpg  squat2_1_frame8670000.jpg\n",
            "squat2_1_frame3030000.jpg  squat2_1_frame5860000.jpg  squat2_1_frame8680000.jpg\n",
            "squat2_1_frame3040000.jpg  squat2_1_frame5870000.jpg  squat2_1_frame8690000.jpg\n",
            "squat2_1_frame3050000.jpg  squat2_1_frame5880000.jpg  squat2_1_frame8700000.jpg\n",
            "squat2_1_frame3060000.jpg  squat2_1_frame5890000.jpg  squat2_1_frame870000.jpg\n",
            "squat2_1_frame3070000.jpg  squat2_1_frame5900000.jpg  squat2_1_frame8710000.jpg\n",
            "squat2_1_frame3080000.jpg  squat2_1_frame590000.jpg   squat2_1_frame8720000.jpg\n",
            "squat2_1_frame3090000.jpg  squat2_1_frame5910000.jpg  squat2_1_frame8730000.jpg\n",
            "squat2_1_frame3100000.jpg  squat2_1_frame5920000.jpg  squat2_1_frame8740000.jpg\n",
            "squat2_1_frame310000.jpg   squat2_1_frame5930000.jpg  squat2_1_frame8750000.jpg\n",
            "squat2_1_frame3110000.jpg  squat2_1_frame5940000.jpg  squat2_1_frame8760000.jpg\n",
            "squat2_1_frame3120000.jpg  squat2_1_frame5950000.jpg  squat2_1_frame8770000.jpg\n",
            "squat2_1_frame3130000.jpg  squat2_1_frame5960000.jpg  squat2_1_frame8780000.jpg\n",
            "squat2_1_frame3140000.jpg  squat2_1_frame5970000.jpg  squat2_1_frame8790000.jpg\n",
            "squat2_1_frame3150000.jpg  squat2_1_frame5980000.jpg  squat2_1_frame8800000.jpg\n",
            "squat2_1_frame3160000.jpg  squat2_1_frame5990000.jpg  squat2_1_frame880000.jpg\n",
            "squat2_1_frame3170000.jpg  squat2_1_frame6000000.jpg  squat2_1_frame8810000.jpg\n",
            "squat2_1_frame3180000.jpg  squat2_1_frame600000.jpg   squat2_1_frame8820000.jpg\n",
            "squat2_1_frame3190000.jpg  squat2_1_frame60000.jpg    squat2_1_frame8830000.jpg\n",
            "squat2_1_frame3200000.jpg  squat2_1_frame6010000.jpg  squat2_1_frame8840000.jpg\n",
            "squat2_1_frame320000.jpg   squat2_1_frame6020000.jpg  squat2_1_frame8850000.jpg\n",
            "squat2_1_frame3210000.jpg  squat2_1_frame6030000.jpg  squat2_1_frame8860000.jpg\n",
            "squat2_1_frame3220000.jpg  squat2_1_frame6040000.jpg  squat2_1_frame8870000.jpg\n",
            "squat2_1_frame3230000.jpg  squat2_1_frame6050000.jpg  squat2_1_frame8880000.jpg\n",
            "squat2_1_frame3240000.jpg  squat2_1_frame6060000.jpg  squat2_1_frame8890000.jpg\n",
            "squat2_1_frame3250000.jpg  squat2_1_frame6070000.jpg  squat2_1_frame8900000.jpg\n",
            "squat2_1_frame3260000.jpg  squat2_1_frame6080000.jpg  squat2_1_frame890000.jpg\n",
            "squat2_1_frame3270000.jpg  squat2_1_frame6090000.jpg  squat2_1_frame8910000.jpg\n",
            "squat2_1_frame3280000.jpg  squat2_1_frame6100000.jpg  squat2_1_frame8920000.jpg\n",
            "squat2_1_frame3290000.jpg  squat2_1_frame610000.jpg   squat2_1_frame8930000.jpg\n",
            "squat2_1_frame3300000.jpg  squat2_1_frame6110000.jpg  squat2_1_frame8940000.jpg\n",
            "squat2_1_frame330000.jpg   squat2_1_frame6120000.jpg  squat2_1_frame8950000.jpg\n",
            "squat2_1_frame3310000.jpg  squat2_1_frame6130000.jpg  squat2_1_frame8960000.jpg\n",
            "squat2_1_frame3320000.jpg  squat2_1_frame6140000.jpg  squat2_1_frame8970000.jpg\n",
            "squat2_1_frame3330000.jpg  squat2_1_frame6150000.jpg  squat2_1_frame8980000.jpg\n",
            "squat2_1_frame3340000.jpg  squat2_1_frame6160000.jpg  squat2_1_frame8990000.jpg\n",
            "squat2_1_frame3350000.jpg  squat2_1_frame6170000.jpg  squat2_1_frame9000000.jpg\n",
            "squat2_1_frame3360000.jpg  squat2_1_frame6180000.jpg  squat2_1_frame900000.jpg\n",
            "squat2_1_frame3370000.jpg  squat2_1_frame6190000.jpg  squat2_1_frame90000.jpg\n",
            "squat2_1_frame3380000.jpg  squat2_1_frame6200000.jpg  squat2_1_frame9010000.jpg\n",
            "squat2_1_frame3390000.jpg  squat2_1_frame620000.jpg   squat2_1_frame9020000.jpg\n",
            "squat2_1_frame3400000.jpg  squat2_1_frame6210000.jpg  squat2_1_frame9030000.jpg\n",
            "squat2_1_frame340000.jpg   squat2_1_frame6220000.jpg  squat2_1_frame9040000.jpg\n",
            "squat2_1_frame3410000.jpg  squat2_1_frame6230000.jpg  squat2_1_frame9050000.jpg\n",
            "squat2_1_frame3420000.jpg  squat2_1_frame6240000.jpg  squat2_1_frame9060000.jpg\n",
            "squat2_1_frame3430000.jpg  squat2_1_frame6250000.jpg  squat2_1_frame9070000.jpg\n",
            "squat2_1_frame3440000.jpg  squat2_1_frame6260000.jpg  squat2_1_frame9080000.jpg\n",
            "squat2_1_frame3450000.jpg  squat2_1_frame6270000.jpg  squat2_1_frame9090000.jpg\n",
            "squat2_1_frame3460000.jpg  squat2_1_frame6280000.jpg  squat2_1_frame9100000.jpg\n",
            "squat2_1_frame3470000.jpg  squat2_1_frame6290000.jpg  squat2_1_frame910000.jpg\n",
            "squat2_1_frame3480000.jpg  squat2_1_frame6300000.jpg  squat2_1_frame9110000.jpg\n",
            "squat2_1_frame3490000.jpg  squat2_1_frame630000.jpg   squat2_1_frame9120000.jpg\n",
            "squat2_1_frame3500000.jpg  squat2_1_frame6310000.jpg  squat2_1_frame9130000.jpg\n",
            "squat2_1_frame350000.jpg   squat2_1_frame6320000.jpg  squat2_1_frame9140000.jpg\n",
            "squat2_1_frame3510000.jpg  squat2_1_frame6330000.jpg  squat2_1_frame9150000.jpg\n",
            "squat2_1_frame3520000.jpg  squat2_1_frame6340000.jpg  squat2_1_frame9160000.jpg\n",
            "squat2_1_frame3530000.jpg  squat2_1_frame6350000.jpg  squat2_1_frame9170000.jpg\n",
            "squat2_1_frame3540000.jpg  squat2_1_frame6360000.jpg  squat2_1_frame9180000.jpg\n",
            "squat2_1_frame3550000.jpg  squat2_1_frame6370000.jpg  squat2_1_frame9190000.jpg\n",
            "squat2_1_frame3560000.jpg  squat2_1_frame6380000.jpg  squat2_1_frame9200000.jpg\n",
            "squat2_1_frame3570000.jpg  squat2_1_frame6390000.jpg  squat2_1_frame920000.jpg\n",
            "squat2_1_frame3580000.jpg  squat2_1_frame6400000.jpg  squat2_1_frame9210000.jpg\n",
            "squat2_1_frame3590000.jpg  squat2_1_frame640000.jpg   squat2_1_frame9220000.jpg\n",
            "squat2_1_frame3600000.jpg  squat2_1_frame6410000.jpg  squat2_1_frame9230000.jpg\n",
            "squat2_1_frame360000.jpg   squat2_1_frame6420000.jpg  squat2_1_frame9240000.jpg\n",
            "squat2_1_frame3610000.jpg  squat2_1_frame6430000.jpg  squat2_1_frame9250000.jpg\n",
            "squat2_1_frame3620000.jpg  squat2_1_frame6440000.jpg  squat2_1_frame9260000.jpg\n",
            "squat2_1_frame3630000.jpg  squat2_1_frame6450000.jpg  squat2_1_frame9270000.jpg\n",
            "squat2_1_frame3640000.jpg  squat2_1_frame6460000.jpg  squat2_1_frame9280000.jpg\n",
            "squat2_1_frame3650000.jpg  squat2_1_frame6470000.jpg  squat2_1_frame9290000.jpg\n",
            "squat2_1_frame3660000.jpg  squat2_1_frame6480000.jpg  squat2_1_frame9300000.jpg\n",
            "squat2_1_frame3670000.jpg  squat2_1_frame6490000.jpg  squat2_1_frame930000.jpg\n",
            "squat2_1_frame3680000.jpg  squat2_1_frame6500000.jpg  squat2_1_frame9310000.jpg\n",
            "squat2_1_frame3690000.jpg  squat2_1_frame650000.jpg   squat2_1_frame9320000.jpg\n",
            "squat2_1_frame3700000.jpg  squat2_1_frame6510000.jpg  squat2_1_frame9330000.jpg\n",
            "squat2_1_frame370000.jpg   squat2_1_frame6520000.jpg  squat2_1_frame9340000.jpg\n",
            "squat2_1_frame3710000.jpg  squat2_1_frame6530000.jpg  squat2_1_frame9350000.jpg\n",
            "squat2_1_frame3720000.jpg  squat2_1_frame6540000.jpg  squat2_1_frame9360000.jpg\n",
            "squat2_1_frame3730000.jpg  squat2_1_frame6550000.jpg  squat2_1_frame940000.jpg\n",
            "squat2_1_frame3740000.jpg  squat2_1_frame6560000.jpg  squat2_1_frame950000.jpg\n",
            "squat2_1_frame3750000.jpg  squat2_1_frame6570000.jpg  squat2_1_frame960000.jpg\n",
            "squat2_1_frame3760000.jpg  squat2_1_frame6580000.jpg  squat2_1_frame970000.jpg\n",
            "squat2_1_frame3770000.jpg  squat2_1_frame6590000.jpg  squat2_1_frame980000.jpg\n",
            "squat2_1_frame3780000.jpg  squat2_1_frame6600000.jpg  squat2_1_frame990000.jpg\n",
            "squat2_1_frame3790000.jpg  squat2_1_frame660000.jpg\n",
            "squat2_1_frame3800000.jpg  squat2_1_frame6610000.jpg\n"
          ],
          "name": "stdout"
        }
      ]
    },
    {
      "cell_type": "code",
      "metadata": {
        "id": "4qhrW-SSabEW",
        "colab_type": "code",
        "colab": {
          "base_uri": "https://localhost:8080/",
          "height": 136
        },
        "outputId": "6a67635c-8f1d-47be-9eaa-bd0f9fd1e7b2"
      },
      "source": [
        "train_generator.class_indices"
      ],
      "execution_count": 106,
      "outputs": [
        {
          "output_type": "execute_result",
          "data": {
            "text/plain": [
              "{'burpees': 0,\n",
              " 'extras': 1,\n",
              " 'jj': 2,\n",
              " 'mcs': 3,\n",
              " 'planks': 4,\n",
              " 'pushups': 5,\n",
              " 'squats': 6}"
            ]
          },
          "metadata": {
            "tags": []
          },
          "execution_count": 106
        }
      ]
    },
    {
      "cell_type": "code",
      "metadata": {
        "id": "yfd6Mzo8czOa",
        "colab_type": "code",
        "colab": {
          "base_uri": "https://localhost:8080/",
          "height": 238
        },
        "outputId": "09845248-7bd5-48f8-9417-1607937fad84"
      },
      "source": [
        "import cv2, os\n",
        "print(cv2.__version__)\n",
        "videos = os.listdir(\"/content/drive/My Drive/exc3\")\n",
        "for video_name in videos:\n",
        "  print(video_name)\n",
        "  vidcap = cv2.VideoCapture(\"/content/drive/My Drive/exc3/\"+video_name)\n",
        "  success,image = vidcap.read()\n",
        "  count = 0\n",
        "  success = True\n",
        "  print(video_name)\n",
        "  os.mkdir(video_name)\n",
        "  while success:\n",
        "    if count%10000 == 0: \n",
        "      cv2.imwrite(video_name+\"/frame%d.jpg\" % count, image)     # save frame as JPEG file\n",
        "      success,image = vidcap.read()\n",
        "      #print('Read a new frame: ', success)\n",
        "    count += 1"
      ],
      "execution_count": 123,
      "outputs": [
        {
          "output_type": "stream",
          "text": [
            "3.4.3\n",
            "Thumbs.db\n",
            "Thumbs.db\n",
            "GroupWorkoutSideView(0).m4v\n",
            "GroupWorkoutSideView(0).m4v\n",
            "GroupWorkoutVideo(1).m4v\n",
            "GroupWorkoutVideo(1).m4v\n",
            "GroupWorkoutVideo(0).m4v\n",
            "GroupWorkoutVideo(0).m4v\n",
            "SingleWorkoutVideo(0).m4v\n",
            "SingleWorkoutVideo(0).m4v\n",
            "SingleWorkoutSideView(0).m4v\n",
            "SingleWorkoutSideView(0).m4v\n"
          ],
          "name": "stdout"
        }
      ]
    },
    {
      "cell_type": "code",
      "metadata": {
        "id": "QLSI7-BHiTtx",
        "colab_type": "code",
        "colab": {}
      },
      "source": [
        ""
      ],
      "execution_count": 0,
      "outputs": []
    }
  ]
}